{
 "cells": [
  {
   "cell_type": "markdown",
   "metadata": {},
   "source": [
    "# Classificação da capacidade de pagamento dos municípios brasileiros com base em dados geoeconômicos\n",
    "# Notebook 02 - Tratamento de dados e análise exploratória\n",
    "Autores: Camila, Mario, Cruz"
   ]
  },
  {
   "cell_type": "markdown",
   "metadata": {},
   "source": [
    "## 1 Importação das bibliotecas"
   ]
  },
  {
   "cell_type": "code",
   "execution_count": 255,
   "metadata": {},
   "outputs": [],
   "source": [
    "import pandas as pd\n",
    "import matplotlib.pyplot as plt\n",
    "import seaborn as sns\n",
    "import numpy as np\n",
    "# Alarme que avisa quando o código termina\n",
    "import winsound"
   ]
  },
  {
   "cell_type": "markdown",
   "metadata": {},
   "source": [
    "### 1.2 Configurações iniciais"
   ]
  },
  {
   "cell_type": "code",
   "execution_count": 256,
   "metadata": {},
   "outputs": [],
   "source": [
    "pd.set_option('display.max_rows', None) \n",
    "pd.set_option('display.max_columns', None)\n",
    "pd.set_option('display.float_format', lambda x: '%.3f' % x)"
   ]
  },
  {
   "cell_type": "markdown",
   "metadata": {},
   "source": [
    "# Referências\n",
    "\n",
    "Balanceamento de base - Smote\n",
    "https://machinelearningmastery.com/smote-oversampling-for-imbalanced-classification/"
   ]
  },
  {
   "cell_type": "code",
   "execution_count": 257,
   "metadata": {},
   "outputs": [
    {
     "data": {
      "text/plain": [
       "(5570, 22)"
      ]
     },
     "execution_count": 257,
     "metadata": {},
     "output_type": "execute_result"
    }
   ],
   "source": [
    "#carrega os dados da base única (resultado da junção das bases \"PIB\" e \"CAPAG\")\n",
    "#df = pd.read_excel('dt_unico_tcc.xlsx')\n",
    "df = pd.read_excel('dt_unico.xlsx')\n",
    "df.shape"
   ]
  },
  {
   "cell_type": "code",
   "execution_count": 258,
   "metadata": {},
   "outputs": [
    {
     "data": {
      "text/html": [
       "<div>\n",
       "<style scoped>\n",
       "    .dataframe tbody tr th:only-of-type {\n",
       "        vertical-align: middle;\n",
       "    }\n",
       "\n",
       "    .dataframe tbody tr th {\n",
       "        vertical-align: top;\n",
       "    }\n",
       "\n",
       "    .dataframe thead th {\n",
       "        text-align: right;\n",
       "    }\n",
       "</style>\n",
       "<table border=\"1\" class=\"dataframe\">\n",
       "  <thead>\n",
       "    <tr style=\"text-align: right;\">\n",
       "      <th></th>\n",
       "      <th>Região</th>\n",
       "      <th>UF</th>\n",
       "      <th>Município</th>\n",
       "      <th>Reg_Metropolitana</th>\n",
       "      <th>Mun_Reg_Geog_Imediata</th>\n",
       "      <th>Mun_Reg_Geog_Intermediária</th>\n",
       "      <th>Tipo_Conc_Urbana</th>\n",
       "      <th>Hierarquia_Urbana</th>\n",
       "      <th>Hier_Urbana_princ_categ</th>\n",
       "      <th>Região_rural</th>\n",
       "      <th>Amazônia_Legal</th>\n",
       "      <th>Semiárido</th>\n",
       "      <th>Cid_Região_São_Paulo</th>\n",
       "      <th>VAB_AGR</th>\n",
       "      <th>VAB_IND</th>\n",
       "      <th>VAB_SERV</th>\n",
       "      <th>VAB_AD_DF_ED_SP_SS</th>\n",
       "      <th>VAB_TOT</th>\n",
       "      <th>IMP_PROD</th>\n",
       "      <th>PIB_per_capita</th>\n",
       "      <th>População</th>\n",
       "      <th>Capag</th>\n",
       "    </tr>\n",
       "  </thead>\n",
       "  <tbody>\n",
       "    <tr>\n",
       "      <th>0</th>\n",
       "      <td>Norte</td>\n",
       "      <td>Rondônia</td>\n",
       "      <td>Alta Floresta D'Oeste</td>\n",
       "      <td>0</td>\n",
       "      <td>do Entorno</td>\n",
       "      <td>do Entorno</td>\n",
       "      <td>Miss</td>\n",
       "      <td>Centro Local</td>\n",
       "      <td>Centro Local</td>\n",
       "      <td>Região Rural de Capital Regional</td>\n",
       "      <td>Sim</td>\n",
       "      <td>Não</td>\n",
       "      <td>Não</td>\n",
       "      <td>165892.171</td>\n",
       "      <td>26369.018</td>\n",
       "      <td>123512.405</td>\n",
       "      <td>155271.086</td>\n",
       "      <td>471044.680</td>\n",
       "      <td>28261.302</td>\n",
       "      <td>21552.470</td>\n",
       "      <td>23167</td>\n",
       "      <td>NaN</td>\n",
       "    </tr>\n",
       "    <tr>\n",
       "      <th>1</th>\n",
       "      <td>Norte</td>\n",
       "      <td>Rondônia</td>\n",
       "      <td>Ariquemes</td>\n",
       "      <td>0</td>\n",
       "      <td>Polo</td>\n",
       "      <td>do Entorno</td>\n",
       "      <td>Miss</td>\n",
       "      <td>Centro Subregional B</td>\n",
       "      <td>Centro Subregional</td>\n",
       "      <td>Região Rural de Capital Regional</td>\n",
       "      <td>Sim</td>\n",
       "      <td>Não</td>\n",
       "      <td>Não</td>\n",
       "      <td>163120.731</td>\n",
       "      <td>339667.233</td>\n",
       "      <td>1034183.951</td>\n",
       "      <td>674541.006</td>\n",
       "      <td>2211512.920</td>\n",
       "      <td>252260.341</td>\n",
       "      <td>23206.360</td>\n",
       "      <td>106168</td>\n",
       "      <td>A</td>\n",
       "    </tr>\n",
       "  </tbody>\n",
       "</table>\n",
       "</div>"
      ],
      "text/plain": [
       "  Região        UF              Município  Reg_Metropolitana  \\\n",
       "0  Norte  Rondônia  Alta Floresta D'Oeste                  0   \n",
       "1  Norte  Rondônia              Ariquemes                  0   \n",
       "\n",
       "  Mun_Reg_Geog_Imediata Mun_Reg_Geog_Intermediária Tipo_Conc_Urbana  \\\n",
       "0            do Entorno                 do Entorno             Miss   \n",
       "1                  Polo                 do Entorno             Miss   \n",
       "\n",
       "      Hierarquia_Urbana Hier_Urbana_princ_categ  \\\n",
       "0          Centro Local            Centro Local   \n",
       "1  Centro Subregional B      Centro Subregional   \n",
       "\n",
       "                       Região_rural Amazônia_Legal Semiárido  \\\n",
       "0  Região Rural de Capital Regional            Sim       Não   \n",
       "1  Região Rural de Capital Regional            Sim       Não   \n",
       "\n",
       "  Cid_Região_São_Paulo    VAB_AGR    VAB_IND    VAB_SERV  VAB_AD_DF_ED_SP_SS  \\\n",
       "0                  Não 165892.171  26369.018  123512.405          155271.086   \n",
       "1                  Não 163120.731 339667.233 1034183.951          674541.006   \n",
       "\n",
       "      VAB_TOT   IMP_PROD  PIB_per_capita  População Capag  \n",
       "0  471044.680  28261.302       21552.470      23167   NaN  \n",
       "1 2211512.920 252260.341       23206.360     106168     A  "
      ]
     },
     "execution_count": 258,
     "metadata": {},
     "output_type": "execute_result"
    }
   ],
   "source": [
    "#visualiza entradas\n",
    "df.head(2)"
   ]
  },
  {
   "cell_type": "code",
   "execution_count": 259,
   "metadata": {},
   "outputs": [
    {
     "data": {
      "text/html": [
       "<div>\n",
       "<style scoped>\n",
       "    .dataframe tbody tr th:only-of-type {\n",
       "        vertical-align: middle;\n",
       "    }\n",
       "\n",
       "    .dataframe tbody tr th {\n",
       "        vertical-align: top;\n",
       "    }\n",
       "\n",
       "    .dataframe thead th {\n",
       "        text-align: right;\n",
       "    }\n",
       "</style>\n",
       "<table border=\"1\" class=\"dataframe\">\n",
       "  <thead>\n",
       "    <tr style=\"text-align: right;\">\n",
       "      <th></th>\n",
       "      <th>Região</th>\n",
       "      <th>UF</th>\n",
       "      <th>Reg_Metropolitana</th>\n",
       "      <th>Mun_Reg_Geog_Imediata</th>\n",
       "      <th>Mun_Reg_Geog_Intermediária</th>\n",
       "      <th>Tipo_Conc_Urbana</th>\n",
       "      <th>Hierarquia_Urbana</th>\n",
       "      <th>Hier_Urbana_princ_categ</th>\n",
       "      <th>Região_rural</th>\n",
       "      <th>Amazônia_Legal</th>\n",
       "      <th>Semiárido</th>\n",
       "      <th>Cid_Região_São_Paulo</th>\n",
       "      <th>VAB_AGR</th>\n",
       "      <th>VAB_IND</th>\n",
       "      <th>VAB_SERV</th>\n",
       "      <th>VAB_AD_DF_ED_SP_SS</th>\n",
       "      <th>VAB_TOT</th>\n",
       "      <th>IMP_PROD</th>\n",
       "      <th>PIB_per_capita</th>\n",
       "      <th>População</th>\n",
       "      <th>Capag</th>\n",
       "    </tr>\n",
       "    <tr>\n",
       "      <th>Município</th>\n",
       "      <th></th>\n",
       "      <th></th>\n",
       "      <th></th>\n",
       "      <th></th>\n",
       "      <th></th>\n",
       "      <th></th>\n",
       "      <th></th>\n",
       "      <th></th>\n",
       "      <th></th>\n",
       "      <th></th>\n",
       "      <th></th>\n",
       "      <th></th>\n",
       "      <th></th>\n",
       "      <th></th>\n",
       "      <th></th>\n",
       "      <th></th>\n",
       "      <th></th>\n",
       "      <th></th>\n",
       "      <th></th>\n",
       "      <th></th>\n",
       "      <th></th>\n",
       "    </tr>\n",
       "  </thead>\n",
       "  <tbody>\n",
       "    <tr>\n",
       "      <th>Alta Floresta D'Oeste</th>\n",
       "      <td>Norte</td>\n",
       "      <td>Rondônia</td>\n",
       "      <td>0</td>\n",
       "      <td>do Entorno</td>\n",
       "      <td>do Entorno</td>\n",
       "      <td>Miss</td>\n",
       "      <td>Centro Local</td>\n",
       "      <td>Centro Local</td>\n",
       "      <td>Região Rural de Capital Regional</td>\n",
       "      <td>Sim</td>\n",
       "      <td>Não</td>\n",
       "      <td>Não</td>\n",
       "      <td>165892.171</td>\n",
       "      <td>26369.018</td>\n",
       "      <td>123512.405</td>\n",
       "      <td>155271.086</td>\n",
       "      <td>471044.680</td>\n",
       "      <td>28261.302</td>\n",
       "      <td>21552.470</td>\n",
       "      <td>23167</td>\n",
       "      <td>NaN</td>\n",
       "    </tr>\n",
       "    <tr>\n",
       "      <th>Ariquemes</th>\n",
       "      <td>Norte</td>\n",
       "      <td>Rondônia</td>\n",
       "      <td>0</td>\n",
       "      <td>Polo</td>\n",
       "      <td>do Entorno</td>\n",
       "      <td>Miss</td>\n",
       "      <td>Centro Subregional B</td>\n",
       "      <td>Centro Subregional</td>\n",
       "      <td>Região Rural de Capital Regional</td>\n",
       "      <td>Sim</td>\n",
       "      <td>Não</td>\n",
       "      <td>Não</td>\n",
       "      <td>163120.731</td>\n",
       "      <td>339667.233</td>\n",
       "      <td>1034183.951</td>\n",
       "      <td>674541.006</td>\n",
       "      <td>2211512.920</td>\n",
       "      <td>252260.341</td>\n",
       "      <td>23206.360</td>\n",
       "      <td>106168</td>\n",
       "      <td>A</td>\n",
       "    </tr>\n",
       "  </tbody>\n",
       "</table>\n",
       "</div>"
      ],
      "text/plain": [
       "                      Região        UF  Reg_Metropolitana  \\\n",
       "Município                                                   \n",
       "Alta Floresta D'Oeste  Norte  Rondônia                  0   \n",
       "Ariquemes              Norte  Rondônia                  0   \n",
       "\n",
       "                      Mun_Reg_Geog_Imediata Mun_Reg_Geog_Intermediária  \\\n",
       "Município                                                                \n",
       "Alta Floresta D'Oeste            do Entorno                 do Entorno   \n",
       "Ariquemes                              Polo                 do Entorno   \n",
       "\n",
       "                      Tipo_Conc_Urbana     Hierarquia_Urbana  \\\n",
       "Município                                                      \n",
       "Alta Floresta D'Oeste             Miss          Centro Local   \n",
       "Ariquemes                         Miss  Centro Subregional B   \n",
       "\n",
       "                      Hier_Urbana_princ_categ  \\\n",
       "Município                                       \n",
       "Alta Floresta D'Oeste            Centro Local   \n",
       "Ariquemes                  Centro Subregional   \n",
       "\n",
       "                                           Região_rural Amazônia_Legal  \\\n",
       "Município                                                                \n",
       "Alta Floresta D'Oeste  Região Rural de Capital Regional            Sim   \n",
       "Ariquemes              Região Rural de Capital Regional            Sim   \n",
       "\n",
       "                      Semiárido Cid_Região_São_Paulo    VAB_AGR    VAB_IND  \\\n",
       "Município                                                                    \n",
       "Alta Floresta D'Oeste       Não                  Não 165892.171  26369.018   \n",
       "Ariquemes                   Não                  Não 163120.731 339667.233   \n",
       "\n",
       "                         VAB_SERV  VAB_AD_DF_ED_SP_SS     VAB_TOT   IMP_PROD  \\\n",
       "Município                                                                      \n",
       "Alta Floresta D'Oeste  123512.405          155271.086  471044.680  28261.302   \n",
       "Ariquemes             1034183.951          674541.006 2211512.920 252260.341   \n",
       "\n",
       "                       PIB_per_capita  População Capag  \n",
       "Município                                               \n",
       "Alta Floresta D'Oeste       21552.470      23167   NaN  \n",
       "Ariquemes                   23206.360     106168     A  "
      ]
     },
     "execution_count": 259,
     "metadata": {},
     "output_type": "execute_result"
    }
   ],
   "source": [
    "df = df.set_index(\"Município\")\n",
    "df.head(2)"
   ]
  },
  {
   "cell_type": "code",
   "execution_count": 260,
   "metadata": {},
   "outputs": [
    {
     "data": {
      "text/plain": [
       "Região                           0\n",
       "UF                               0\n",
       "Reg_Metropolitana                0\n",
       "Mun_Reg_Geog_Imediata            0\n",
       "Mun_Reg_Geog_Intermediária       0\n",
       "Tipo_Conc_Urbana                 0\n",
       "Hierarquia_Urbana                0\n",
       "Hier_Urbana_princ_categ          0\n",
       "Região_rural                     0\n",
       "Amazônia_Legal                   0\n",
       "Semiárido                        0\n",
       "Cid_Região_São_Paulo             0\n",
       "VAB_AGR                          0\n",
       "VAB_IND                          0\n",
       "VAB_SERV                         0\n",
       "VAB_AD_DF_ED_SP_SS               0\n",
       "VAB_TOT                          0\n",
       "IMP_PROD                         0\n",
       "PIB_per_capita                   0\n",
       "População                        0\n",
       "Capag                         1152\n",
       "dtype: int64"
      ]
     },
     "execution_count": 260,
     "metadata": {},
     "output_type": "execute_result"
    }
   ],
   "source": [
    "df.isna().sum()"
   ]
  },
  {
   "cell_type": "code",
   "execution_count": 261,
   "metadata": {},
   "outputs": [
    {
     "data": {
      "text/plain": [
       "0"
      ]
     },
     "execution_count": 261,
     "metadata": {},
     "output_type": "execute_result"
    }
   ],
   "source": [
    "#verificando se temos valores duplicados\n",
    "df.duplicated().sum()"
   ]
  },
  {
   "cell_type": "code",
   "execution_count": 262,
   "metadata": {},
   "outputs": [
    {
     "data": {
      "text/html": [
       "<div>\n",
       "<style scoped>\n",
       "    .dataframe tbody tr th:only-of-type {\n",
       "        vertical-align: middle;\n",
       "    }\n",
       "\n",
       "    .dataframe tbody tr th {\n",
       "        vertical-align: top;\n",
       "    }\n",
       "\n",
       "    .dataframe thead th {\n",
       "        text-align: right;\n",
       "    }\n",
       "</style>\n",
       "<table border=\"1\" class=\"dataframe\">\n",
       "  <thead>\n",
       "    <tr style=\"text-align: right;\">\n",
       "      <th></th>\n",
       "      <th>Região</th>\n",
       "      <th>UF</th>\n",
       "      <th>Reg_Metropolitana</th>\n",
       "      <th>Mun_Reg_Geog_Imediata</th>\n",
       "      <th>Mun_Reg_Geog_Intermediária</th>\n",
       "      <th>Tipo_Conc_Urbana</th>\n",
       "      <th>Hierarquia_Urbana</th>\n",
       "      <th>Hier_Urbana_princ_categ</th>\n",
       "      <th>Região_rural</th>\n",
       "      <th>Amazônia_Legal</th>\n",
       "      <th>Semiárido</th>\n",
       "      <th>Cid_Região_São_Paulo</th>\n",
       "      <th>VAB_AGR</th>\n",
       "      <th>VAB_IND</th>\n",
       "      <th>VAB_SERV</th>\n",
       "      <th>VAB_AD_DF_ED_SP_SS</th>\n",
       "      <th>VAB_TOT</th>\n",
       "      <th>IMP_PROD</th>\n",
       "      <th>PIB_per_capita</th>\n",
       "      <th>População</th>\n",
       "      <th>Capag</th>\n",
       "    </tr>\n",
       "    <tr>\n",
       "      <th>Município</th>\n",
       "      <th></th>\n",
       "      <th></th>\n",
       "      <th></th>\n",
       "      <th></th>\n",
       "      <th></th>\n",
       "      <th></th>\n",
       "      <th></th>\n",
       "      <th></th>\n",
       "      <th></th>\n",
       "      <th></th>\n",
       "      <th></th>\n",
       "      <th></th>\n",
       "      <th></th>\n",
       "      <th></th>\n",
       "      <th></th>\n",
       "      <th></th>\n",
       "      <th></th>\n",
       "      <th></th>\n",
       "      <th></th>\n",
       "      <th></th>\n",
       "      <th></th>\n",
       "    </tr>\n",
       "  </thead>\n",
       "  <tbody>\n",
       "    <tr>\n",
       "      <th>Alta Floresta D'Oeste</th>\n",
       "      <td>Norte</td>\n",
       "      <td>Rondônia</td>\n",
       "      <td>0</td>\n",
       "      <td>do Entorno</td>\n",
       "      <td>do Entorno</td>\n",
       "      <td>Miss</td>\n",
       "      <td>Centro Local</td>\n",
       "      <td>Centro Local</td>\n",
       "      <td>Região Rural de Capital Regional</td>\n",
       "      <td>Sim</td>\n",
       "      <td>Não</td>\n",
       "      <td>Não</td>\n",
       "      <td>165892.171</td>\n",
       "      <td>26369.018</td>\n",
       "      <td>123512.405</td>\n",
       "      <td>155271.086</td>\n",
       "      <td>471044.680</td>\n",
       "      <td>28261.302</td>\n",
       "      <td>21552.470</td>\n",
       "      <td>23167</td>\n",
       "      <td>NaN</td>\n",
       "    </tr>\n",
       "    <tr>\n",
       "      <th>Ariquemes</th>\n",
       "      <td>Norte</td>\n",
       "      <td>Rondônia</td>\n",
       "      <td>0</td>\n",
       "      <td>Polo</td>\n",
       "      <td>do Entorno</td>\n",
       "      <td>Miss</td>\n",
       "      <td>Centro Subregional B</td>\n",
       "      <td>Centro Subregional</td>\n",
       "      <td>Região Rural de Capital Regional</td>\n",
       "      <td>Sim</td>\n",
       "      <td>Não</td>\n",
       "      <td>Não</td>\n",
       "      <td>163120.731</td>\n",
       "      <td>339667.233</td>\n",
       "      <td>1034183.951</td>\n",
       "      <td>674541.006</td>\n",
       "      <td>2211512.920</td>\n",
       "      <td>252260.341</td>\n",
       "      <td>23206.360</td>\n",
       "      <td>106168</td>\n",
       "      <td>A</td>\n",
       "    </tr>\n",
       "  </tbody>\n",
       "</table>\n",
       "</div>"
      ],
      "text/plain": [
       "                      Região        UF  Reg_Metropolitana  \\\n",
       "Município                                                   \n",
       "Alta Floresta D'Oeste  Norte  Rondônia                  0   \n",
       "Ariquemes              Norte  Rondônia                  0   \n",
       "\n",
       "                      Mun_Reg_Geog_Imediata Mun_Reg_Geog_Intermediária  \\\n",
       "Município                                                                \n",
       "Alta Floresta D'Oeste            do Entorno                 do Entorno   \n",
       "Ariquemes                              Polo                 do Entorno   \n",
       "\n",
       "                      Tipo_Conc_Urbana     Hierarquia_Urbana  \\\n",
       "Município                                                      \n",
       "Alta Floresta D'Oeste             Miss          Centro Local   \n",
       "Ariquemes                         Miss  Centro Subregional B   \n",
       "\n",
       "                      Hier_Urbana_princ_categ  \\\n",
       "Município                                       \n",
       "Alta Floresta D'Oeste            Centro Local   \n",
       "Ariquemes                  Centro Subregional   \n",
       "\n",
       "                                           Região_rural Amazônia_Legal  \\\n",
       "Município                                                                \n",
       "Alta Floresta D'Oeste  Região Rural de Capital Regional            Sim   \n",
       "Ariquemes              Região Rural de Capital Regional            Sim   \n",
       "\n",
       "                      Semiárido Cid_Região_São_Paulo    VAB_AGR    VAB_IND  \\\n",
       "Município                                                                    \n",
       "Alta Floresta D'Oeste       Não                  Não 165892.171  26369.018   \n",
       "Ariquemes                   Não                  Não 163120.731 339667.233   \n",
       "\n",
       "                         VAB_SERV  VAB_AD_DF_ED_SP_SS     VAB_TOT   IMP_PROD  \\\n",
       "Município                                                                      \n",
       "Alta Floresta D'Oeste  123512.405          155271.086  471044.680  28261.302   \n",
       "Ariquemes             1034183.951          674541.006 2211512.920 252260.341   \n",
       "\n",
       "                       PIB_per_capita  População Capag  \n",
       "Município                                               \n",
       "Alta Floresta D'Oeste       21552.470      23167   NaN  \n",
       "Ariquemes                   23206.360     106168     A  "
      ]
     },
     "execution_count": 262,
     "metadata": {},
     "output_type": "execute_result"
    }
   ],
   "source": [
    "df.head(2)"
   ]
  },
  {
   "cell_type": "code",
   "execution_count": 263,
   "metadata": {},
   "outputs": [
    {
     "data": {
      "text/html": [
       "<div>\n",
       "<style scoped>\n",
       "    .dataframe tbody tr th:only-of-type {\n",
       "        vertical-align: middle;\n",
       "    }\n",
       "\n",
       "    .dataframe tbody tr th {\n",
       "        vertical-align: top;\n",
       "    }\n",
       "\n",
       "    .dataframe thead th {\n",
       "        text-align: right;\n",
       "    }\n",
       "</style>\n",
       "<table border=\"1\" class=\"dataframe\">\n",
       "  <thead>\n",
       "    <tr style=\"text-align: right;\">\n",
       "      <th></th>\n",
       "      <th>Reg_Metropolitana</th>\n",
       "      <th>VAB_AGR</th>\n",
       "      <th>VAB_IND</th>\n",
       "      <th>VAB_SERV</th>\n",
       "      <th>VAB_AD_DF_ED_SP_SS</th>\n",
       "      <th>VAB_TOT</th>\n",
       "      <th>IMP_PROD</th>\n",
       "      <th>PIB_per_capita</th>\n",
       "      <th>População</th>\n",
       "    </tr>\n",
       "  </thead>\n",
       "  <tbody>\n",
       "    <tr>\n",
       "      <th>count</th>\n",
       "      <td>5570.000</td>\n",
       "      <td>5570.000</td>\n",
       "      <td>5570.000</td>\n",
       "      <td>5570.000</td>\n",
       "      <td>5570.000</td>\n",
       "      <td>5570.000</td>\n",
       "      <td>5570.000</td>\n",
       "      <td>5570.000</td>\n",
       "      <td>5570.000</td>\n",
       "    </tr>\n",
       "    <tr>\n",
       "      <th>mean</th>\n",
       "      <td>0.249</td>\n",
       "      <td>55585.458</td>\n",
       "      <td>235764.811</td>\n",
       "      <td>600169.479</td>\n",
       "      <td>187681.329</td>\n",
       "      <td>1079201.077</td>\n",
       "      <td>178274.865</td>\n",
       "      <td>23513.942</td>\n",
       "      <td>37431.759</td>\n",
       "    </tr>\n",
       "    <tr>\n",
       "      <th>std</th>\n",
       "      <td>0.433</td>\n",
       "      <td>106843.579</td>\n",
       "      <td>1350531.977</td>\n",
       "      <td>7499634.657</td>\n",
       "      <td>1699240.007</td>\n",
       "      <td>9850775.118</td>\n",
       "      <td>2261761.646</td>\n",
       "      <td>24238.463</td>\n",
       "      <td>219969.003</td>\n",
       "    </tr>\n",
       "    <tr>\n",
       "      <th>min</th>\n",
       "      <td>0.000</td>\n",
       "      <td>0.000</td>\n",
       "      <td>349.957</td>\n",
       "      <td>2149.341</td>\n",
       "      <td>8331.566</td>\n",
       "      <td>13771.649</td>\n",
       "      <td>64.476</td>\n",
       "      <td>4788.180</td>\n",
       "      <td>786.000</td>\n",
       "    </tr>\n",
       "    <tr>\n",
       "      <th>25%</th>\n",
       "      <td>0.000</td>\n",
       "      <td>10059.489</td>\n",
       "      <td>3924.031</td>\n",
       "      <td>20154.478</td>\n",
       "      <td>27467.868</td>\n",
       "      <td>78363.500</td>\n",
       "      <td>3419.798</td>\n",
       "      <td>9880.370</td>\n",
       "      <td>5454.000</td>\n",
       "    </tr>\n",
       "    <tr>\n",
       "      <th>50%</th>\n",
       "      <td>0.000</td>\n",
       "      <td>25067.454</td>\n",
       "      <td>12586.448</td>\n",
       "      <td>52343.234</td>\n",
       "      <td>51979.580</td>\n",
       "      <td>172877.225</td>\n",
       "      <td>10100.853</td>\n",
       "      <td>17433.840</td>\n",
       "      <td>11590.500</td>\n",
       "    </tr>\n",
       "    <tr>\n",
       "      <th>75%</th>\n",
       "      <td>0.000</td>\n",
       "      <td>59482.944</td>\n",
       "      <td>70994.967</td>\n",
       "      <td>165930.922</td>\n",
       "      <td>112028.282</td>\n",
       "      <td>456908.110</td>\n",
       "      <td>37224.306</td>\n",
       "      <td>28729.908</td>\n",
       "      <td>25295.500</td>\n",
       "    </tr>\n",
       "    <tr>\n",
       "      <th>max</th>\n",
       "      <td>1.000</td>\n",
       "      <td>2482540.288</td>\n",
       "      <td>58054689.156</td>\n",
       "      <td>485428812.952</td>\n",
       "      <td>101792841.454</td>\n",
       "      <td>587529064.249</td>\n",
       "      <td>127154298.214</td>\n",
       "      <td>583171.850</td>\n",
       "      <td>12176866.000</td>\n",
       "    </tr>\n",
       "  </tbody>\n",
       "</table>\n",
       "</div>"
      ],
      "text/plain": [
       "       Reg_Metropolitana     VAB_AGR      VAB_IND      VAB_SERV  \\\n",
       "count           5570.000    5570.000     5570.000      5570.000   \n",
       "mean               0.249   55585.458   235764.811    600169.479   \n",
       "std                0.433  106843.579  1350531.977   7499634.657   \n",
       "min                0.000       0.000      349.957      2149.341   \n",
       "25%                0.000   10059.489     3924.031     20154.478   \n",
       "50%                0.000   25067.454    12586.448     52343.234   \n",
       "75%                0.000   59482.944    70994.967    165930.922   \n",
       "max                1.000 2482540.288 58054689.156 485428812.952   \n",
       "\n",
       "       VAB_AD_DF_ED_SP_SS       VAB_TOT      IMP_PROD  PIB_per_capita  \\\n",
       "count            5570.000      5570.000      5570.000        5570.000   \n",
       "mean           187681.329   1079201.077    178274.865       23513.942   \n",
       "std           1699240.007   9850775.118   2261761.646       24238.463   \n",
       "min              8331.566     13771.649        64.476        4788.180   \n",
       "25%             27467.868     78363.500      3419.798        9880.370   \n",
       "50%             51979.580    172877.225     10100.853       17433.840   \n",
       "75%            112028.282    456908.110     37224.306       28729.908   \n",
       "max         101792841.454 587529064.249 127154298.214      583171.850   \n",
       "\n",
       "         População  \n",
       "count     5570.000  \n",
       "mean     37431.759  \n",
       "std     219969.003  \n",
       "min        786.000  \n",
       "25%       5454.000  \n",
       "50%      11590.500  \n",
       "75%      25295.500  \n",
       "max   12176866.000  "
      ]
     },
     "execution_count": 263,
     "metadata": {},
     "output_type": "execute_result"
    }
   ],
   "source": [
    "df.describe()"
   ]
  },
  {
   "cell_type": "code",
   "execution_count": 264,
   "metadata": {},
   "outputs": [],
   "source": [
    "df['Reg_Metropolitana'] = df['Reg_Metropolitana'].astype(object)"
   ]
  },
  {
   "cell_type": "code",
   "execution_count": 265,
   "metadata": {},
   "outputs": [
    {
     "name": "stdout",
     "output_type": "stream",
     "text": [
      "<class 'pandas.core.frame.DataFrame'>\n",
      "Index: 5570 entries, Alta Floresta D'Oeste to Brasília\n",
      "Data columns (total 21 columns):\n",
      " #   Column                      Non-Null Count  Dtype  \n",
      "---  ------                      --------------  -----  \n",
      " 0   Região                      5570 non-null   object \n",
      " 1   UF                          5570 non-null   object \n",
      " 2   Reg_Metropolitana           5570 non-null   object \n",
      " 3   Mun_Reg_Geog_Imediata       5570 non-null   object \n",
      " 4   Mun_Reg_Geog_Intermediária  5570 non-null   object \n",
      " 5   Tipo_Conc_Urbana            5570 non-null   object \n",
      " 6   Hierarquia_Urbana           5570 non-null   object \n",
      " 7   Hier_Urbana_princ_categ     5570 non-null   object \n",
      " 8   Região_rural                5570 non-null   object \n",
      " 9   Amazônia_Legal              5570 non-null   object \n",
      " 10  Semiárido                   5570 non-null   object \n",
      " 11  Cid_Região_São_Paulo        5570 non-null   object \n",
      " 12  VAB_AGR                     5570 non-null   float64\n",
      " 13  VAB_IND                     5570 non-null   float64\n",
      " 14  VAB_SERV                    5570 non-null   float64\n",
      " 15  VAB_AD_DF_ED_SP_SS          5570 non-null   float64\n",
      " 16  VAB_TOT                     5570 non-null   float64\n",
      " 17  IMP_PROD                    5570 non-null   float64\n",
      " 18  PIB_per_capita              5570 non-null   float64\n",
      " 19  População                   5570 non-null   int64  \n",
      " 20  Capag                       4418 non-null   object \n",
      "dtypes: float64(7), int64(1), object(13)\n",
      "memory usage: 957.3+ KB\n"
     ]
    }
   ],
   "source": [
    "#visualiza o tipo de dados de cada coluna\n",
    "df.info()"
   ]
  },
  {
   "cell_type": "code",
   "execution_count": 266,
   "metadata": {},
   "outputs": [
    {
     "data": {
      "text/plain": [
       "Index(['VAB_AGR', 'VAB_IND', 'VAB_SERV', 'VAB_AD_DF_ED_SP_SS', 'VAB_TOT',\n",
       "       'IMP_PROD', 'PIB_per_capita'],\n",
       "      dtype='object')"
      ]
     },
     "execution_count": 266,
     "metadata": {},
     "output_type": "execute_result"
    }
   ],
   "source": [
    "df.select_dtypes('float64').columns"
   ]
  },
  {
   "cell_type": "code",
   "execution_count": 267,
   "metadata": {},
   "outputs": [
    {
     "data": {
      "text/plain": [
       "count        5570.000\n",
       "mean       178274.865\n",
       "std       2261761.646\n",
       "min            64.476\n",
       "25%          3419.798\n",
       "50%         10100.853\n",
       "75%         37224.306\n",
       "max     127154298.214\n",
       "Name: IMP_PROD, dtype: float64"
      ]
     },
     "execution_count": 267,
     "metadata": {},
     "output_type": "execute_result"
    }
   ],
   "source": [
    "df['IMP_PROD'].describe()"
   ]
  },
  {
   "cell_type": "code",
   "execution_count": 268,
   "metadata": {},
   "outputs": [
    {
     "data": {
      "text/plain": [
       "VAB_AGR               0\n",
       "VAB_IND               0\n",
       "VAB_SERV              0\n",
       "VAB_AD_DF_ED_SP_SS    0\n",
       "VAB_TOT               0\n",
       "IMP_PROD              0\n",
       "PIB_per_capita        0\n",
       "dtype: int64"
      ]
     },
     "execution_count": 268,
     "metadata": {},
     "output_type": "execute_result"
    }
   ],
   "source": [
    "df.select_dtypes('float64').isna().sum()"
   ]
  },
  {
   "cell_type": "code",
   "execution_count": 269,
   "metadata": {},
   "outputs": [
    {
     "name": "stdout",
     "output_type": "stream",
     "text": [
      "<class 'pandas.core.frame.DataFrame'>\n",
      "Index: 5570 entries, Alta Floresta D'Oeste to Brasília\n",
      "Data columns (total 21 columns):\n",
      " #   Column                      Non-Null Count  Dtype \n",
      "---  ------                      --------------  ----- \n",
      " 0   Região                      5570 non-null   object\n",
      " 1   UF                          5570 non-null   object\n",
      " 2   Reg_Metropolitana           5570 non-null   object\n",
      " 3   Mun_Reg_Geog_Imediata       5570 non-null   object\n",
      " 4   Mun_Reg_Geog_Intermediária  5570 non-null   object\n",
      " 5   Tipo_Conc_Urbana            5570 non-null   object\n",
      " 6   Hierarquia_Urbana           5570 non-null   object\n",
      " 7   Hier_Urbana_princ_categ     5570 non-null   object\n",
      " 8   Região_rural                5570 non-null   object\n",
      " 9   Amazônia_Legal              5570 non-null   object\n",
      " 10  Semiárido                   5570 non-null   object\n",
      " 11  Cid_Região_São_Paulo        5570 non-null   object\n",
      " 12  VAB_AGR                     5570 non-null   int32 \n",
      " 13  VAB_IND                     5570 non-null   int32 \n",
      " 14  VAB_SERV                    5570 non-null   int32 \n",
      " 15  VAB_AD_DF_ED_SP_SS          5570 non-null   int32 \n",
      " 16  VAB_TOT                     5570 non-null   int32 \n",
      " 17  IMP_PROD                    5570 non-null   int32 \n",
      " 18  PIB_per_capita              5570 non-null   int32 \n",
      " 19  População                   5570 non-null   int64 \n",
      " 20  Capag                       4418 non-null   object\n",
      "dtypes: int32(7), int64(1), object(13)\n",
      "memory usage: 805.0+ KB\n"
     ]
    }
   ],
   "source": [
    "#converte valores para formato int, para facilitar visualização dos dados. \n",
    "#Trata-se de valores grandes, sendo irrelevantes as quantias após a vírgula\n",
    "df[['VAB_AGR', 'VAB_IND', 'VAB_SERV', 'VAB_AD_DF_ED_SP_SS', 'VAB_TOT',\n",
    "       'IMP_PROD', 'PIB_per_capita']] = \\\n",
    "df[['VAB_AGR', 'VAB_IND', 'VAB_SERV', 'VAB_AD_DF_ED_SP_SS', 'VAB_TOT',\n",
    "       'IMP_PROD', 'PIB_per_capita']].astype(int)\n",
    "df.info()"
   ]
  },
  {
   "cell_type": "code",
   "execution_count": 270,
   "metadata": {},
   "outputs": [
    {
     "data": {
      "text/html": [
       "<div>\n",
       "<style scoped>\n",
       "    .dataframe tbody tr th:only-of-type {\n",
       "        vertical-align: middle;\n",
       "    }\n",
       "\n",
       "    .dataframe tbody tr th {\n",
       "        vertical-align: top;\n",
       "    }\n",
       "\n",
       "    .dataframe thead th {\n",
       "        text-align: right;\n",
       "    }\n",
       "</style>\n",
       "<table border=\"1\" class=\"dataframe\">\n",
       "  <thead>\n",
       "    <tr style=\"text-align: right;\">\n",
       "      <th></th>\n",
       "      <th>Região</th>\n",
       "      <th>UF</th>\n",
       "      <th>Reg_Metropolitana</th>\n",
       "      <th>Mun_Reg_Geog_Imediata</th>\n",
       "      <th>Mun_Reg_Geog_Intermediária</th>\n",
       "      <th>Tipo_Conc_Urbana</th>\n",
       "      <th>Hierarquia_Urbana</th>\n",
       "      <th>Hier_Urbana_princ_categ</th>\n",
       "      <th>Região_rural</th>\n",
       "      <th>Amazônia_Legal</th>\n",
       "      <th>Semiárido</th>\n",
       "      <th>Cid_Região_São_Paulo</th>\n",
       "      <th>VAB_AGR</th>\n",
       "      <th>VAB_IND</th>\n",
       "      <th>VAB_SERV</th>\n",
       "      <th>VAB_AD_DF_ED_SP_SS</th>\n",
       "      <th>VAB_TOT</th>\n",
       "      <th>IMP_PROD</th>\n",
       "      <th>PIB_per_capita</th>\n",
       "      <th>População</th>\n",
       "      <th>Capag</th>\n",
       "    </tr>\n",
       "    <tr>\n",
       "      <th>Município</th>\n",
       "      <th></th>\n",
       "      <th></th>\n",
       "      <th></th>\n",
       "      <th></th>\n",
       "      <th></th>\n",
       "      <th></th>\n",
       "      <th></th>\n",
       "      <th></th>\n",
       "      <th></th>\n",
       "      <th></th>\n",
       "      <th></th>\n",
       "      <th></th>\n",
       "      <th></th>\n",
       "      <th></th>\n",
       "      <th></th>\n",
       "      <th></th>\n",
       "      <th></th>\n",
       "      <th></th>\n",
       "      <th></th>\n",
       "      <th></th>\n",
       "      <th></th>\n",
       "    </tr>\n",
       "  </thead>\n",
       "  <tbody>\n",
       "    <tr>\n",
       "      <th>Alta Floresta D'Oeste</th>\n",
       "      <td>Norte</td>\n",
       "      <td>Rondônia</td>\n",
       "      <td>0</td>\n",
       "      <td>do Entorno</td>\n",
       "      <td>do Entorno</td>\n",
       "      <td>Miss</td>\n",
       "      <td>Centro Local</td>\n",
       "      <td>Centro Local</td>\n",
       "      <td>Região Rural de Capital Regional</td>\n",
       "      <td>Sim</td>\n",
       "      <td>Não</td>\n",
       "      <td>Não</td>\n",
       "      <td>165892</td>\n",
       "      <td>26369</td>\n",
       "      <td>123512</td>\n",
       "      <td>155271</td>\n",
       "      <td>471044</td>\n",
       "      <td>28261</td>\n",
       "      <td>21552</td>\n",
       "      <td>23167</td>\n",
       "      <td>NaN</td>\n",
       "    </tr>\n",
       "    <tr>\n",
       "      <th>Ariquemes</th>\n",
       "      <td>Norte</td>\n",
       "      <td>Rondônia</td>\n",
       "      <td>0</td>\n",
       "      <td>Polo</td>\n",
       "      <td>do Entorno</td>\n",
       "      <td>Miss</td>\n",
       "      <td>Centro Subregional B</td>\n",
       "      <td>Centro Subregional</td>\n",
       "      <td>Região Rural de Capital Regional</td>\n",
       "      <td>Sim</td>\n",
       "      <td>Não</td>\n",
       "      <td>Não</td>\n",
       "      <td>163120</td>\n",
       "      <td>339667</td>\n",
       "      <td>1034183</td>\n",
       "      <td>674541</td>\n",
       "      <td>2211512</td>\n",
       "      <td>252260</td>\n",
       "      <td>23206</td>\n",
       "      <td>106168</td>\n",
       "      <td>A</td>\n",
       "    </tr>\n",
       "  </tbody>\n",
       "</table>\n",
       "</div>"
      ],
      "text/plain": [
       "                      Região        UF Reg_Metropolitana  \\\n",
       "Município                                                  \n",
       "Alta Floresta D'Oeste  Norte  Rondônia                 0   \n",
       "Ariquemes              Norte  Rondônia                 0   \n",
       "\n",
       "                      Mun_Reg_Geog_Imediata Mun_Reg_Geog_Intermediária  \\\n",
       "Município                                                                \n",
       "Alta Floresta D'Oeste            do Entorno                 do Entorno   \n",
       "Ariquemes                              Polo                 do Entorno   \n",
       "\n",
       "                      Tipo_Conc_Urbana     Hierarquia_Urbana  \\\n",
       "Município                                                      \n",
       "Alta Floresta D'Oeste             Miss          Centro Local   \n",
       "Ariquemes                         Miss  Centro Subregional B   \n",
       "\n",
       "                      Hier_Urbana_princ_categ  \\\n",
       "Município                                       \n",
       "Alta Floresta D'Oeste            Centro Local   \n",
       "Ariquemes                  Centro Subregional   \n",
       "\n",
       "                                           Região_rural Amazônia_Legal  \\\n",
       "Município                                                                \n",
       "Alta Floresta D'Oeste  Região Rural de Capital Regional            Sim   \n",
       "Ariquemes              Região Rural de Capital Regional            Sim   \n",
       "\n",
       "                      Semiárido Cid_Região_São_Paulo  VAB_AGR  VAB_IND  \\\n",
       "Município                                                                \n",
       "Alta Floresta D'Oeste       Não                  Não   165892    26369   \n",
       "Ariquemes                   Não                  Não   163120   339667   \n",
       "\n",
       "                       VAB_SERV  VAB_AD_DF_ED_SP_SS  VAB_TOT  IMP_PROD  \\\n",
       "Município                                                                \n",
       "Alta Floresta D'Oeste    123512              155271   471044     28261   \n",
       "Ariquemes               1034183              674541  2211512    252260   \n",
       "\n",
       "                       PIB_per_capita  População Capag  \n",
       "Município                                               \n",
       "Alta Floresta D'Oeste           21552      23167   NaN  \n",
       "Ariquemes                       23206     106168     A  "
      ]
     },
     "execution_count": 270,
     "metadata": {},
     "output_type": "execute_result"
    }
   ],
   "source": [
    "df.head(2)"
   ]
  },
  {
   "cell_type": "markdown",
   "metadata": {},
   "source": [
    "### Tratamento da variável 'Capag'"
   ]
  },
  {
   "cell_type": "code",
   "execution_count": 271,
   "metadata": {},
   "outputs": [
    {
     "data": {
      "text/plain": [
       "C      2222\n",
       "A      1269\n",
       "NaN    1152\n",
       "B       921\n",
       "D         6\n",
       "Name: Capag, dtype: int64"
      ]
     },
     "execution_count": 271,
     "metadata": {},
     "output_type": "execute_result"
    }
   ],
   "source": [
    "df['Capag'].value_counts(dropna=False)"
   ]
  },
  {
   "cell_type": "code",
   "execution_count": 272,
   "metadata": {},
   "outputs": [
    {
     "data": {
      "text/plain": [
       "dtype('O')"
      ]
     },
     "execution_count": 272,
     "metadata": {},
     "output_type": "execute_result"
    }
   ],
   "source": [
    "df['Capag'].dtype"
   ]
  },
  {
   "cell_type": "code",
   "execution_count": 273,
   "metadata": {},
   "outputs": [],
   "source": [
    "#convertendo para números as categorias da coluna Capag\n",
    "#conforme legislação citada no TCC, os municípios com notas A e B tem direito à garantia da União\n",
    "#optou-se por fazer o agrupamento dos municípios com notas A e B na classe 0; C e D foram agrupados na classe 1.\n",
    "#isto foi feito porque usualmente, em Ciências de Dados, nos casos de classificação binária, como o presente, escolhe-se o valor 1\n",
    "# para a situação desfavorável que, no caso, refere-se aos municípios sem boas condições de pagamento.\n",
    "a = {'D':1, 'C':1, 'B':0 , 'A':0}\n",
    "df['Capag'] = df['Capag'].map(a)\n",
    "df['Capag'] = df['Capag'].astype('Int64')"
   ]
  },
  {
   "cell_type": "code",
   "execution_count": 274,
   "metadata": {},
   "outputs": [
    {
     "data": {
      "text/plain": [
       "1      2228\n",
       "0      2190\n",
       "NaN    1152\n",
       "Name: Capag, dtype: Int64"
      ]
     },
     "execution_count": 274,
     "metadata": {},
     "output_type": "execute_result"
    }
   ],
   "source": [
    "df['Capag'].value_counts(dropna=False)"
   ]
  },
  {
   "cell_type": "code",
   "execution_count": 275,
   "metadata": {},
   "outputs": [
    {
     "data": {
      "text/plain": [
       "Int64Dtype()"
      ]
     },
     "execution_count": 275,
     "metadata": {},
     "output_type": "execute_result"
    }
   ],
   "source": [
    "df['Capag'].dtype"
   ]
  },
  {
   "cell_type": "markdown",
   "metadata": {},
   "source": [
    "## Tratamento das variáveis quantitativas\n",
    "Todos os valores VAB e Impostos estão em milhares de reais.  \n",
    "Como os valores agregados por setor da Economia (VAB) foram divididos pelo VAB total não foi necessário multiplicar por 1000, pois multiplicar o numerador e o denominador de uma fração por uma constante não altera a fração.  \n",
    "No caso do valor dos Impostos, que dividimos pela população, foi necessário multiplicar por 1000 para chegar ao valor real."
   ]
  },
  {
   "cell_type": "code",
   "execution_count": 276,
   "metadata": {},
   "outputs": [],
   "source": [
    "#criando o indicador que demonstra o impacto do VAB_IND no VAB_TOTAL\n",
    "df['VAB_Indústria/Total'] = df['VAB_IND']/df['VAB_TOT']"
   ]
  },
  {
   "cell_type": "code",
   "execution_count": 277,
   "metadata": {},
   "outputs": [],
   "source": [
    "#criando o indicador que demonstra o impacto do VAB_SERV no VAB_TOTAL\n",
    "df['VAB_Serviço/Total'] = df['VAB_SERV']/df['VAB_TOT']"
   ]
  },
  {
   "cell_type": "code",
   "execution_count": 278,
   "metadata": {},
   "outputs": [],
   "source": [
    "#criando o indicador que demonstra o impacto do VAB_AD_DF_ED_SP_SS no VAB_TOTAL\n",
    "df['VAB_Adm/Total'] = df['VAB_AD_DF_ED_SP_SS']/df['VAB_TOT']"
   ]
  },
  {
   "cell_type": "code",
   "execution_count": 279,
   "metadata": {},
   "outputs": [],
   "source": [
    "#criando o indicador que demonstra o impacto do VAB_AGR no VAB_TOTAL\n",
    "df['VAB_Agricultura/Total'] = df['VAB_AGR']/df['VAB_TOT']"
   ]
  },
  {
   "cell_type": "code",
   "execution_count": 280,
   "metadata": {},
   "outputs": [
    {
     "data": {
      "text/plain": [
       "count    5570.000\n",
       "mean     1951.098\n",
       "std      3530.784\n",
       "min        17.553\n",
       "25%       435.002\n",
       "50%       962.439\n",
       "75%      2204.083\n",
       "max     76589.687\n",
       "Name: Imposto_Prod_Percapita, dtype: float64"
      ]
     },
     "execution_count": 280,
     "metadata": {},
     "output_type": "execute_result"
    }
   ],
   "source": [
    "#criando o indicador que demonstra o imposto de produção percapita\n",
    "# ESte valor foi multiplicado por 1000 porque o valor do imposto está em milhares de reais\n",
    "df['Imposto_Prod_Percapita'] = df['IMP_PROD']/df['População']*1000\n",
    "df['Imposto_Prod_Percapita'].describe()"
   ]
  },
  {
   "cell_type": "code",
   "execution_count": 281,
   "metadata": {},
   "outputs": [],
   "source": [
    "#retirando colunas originais usadas na criação das novas colunas  \n",
    "df.drop(columns=['VAB_TOT','VAB_AD_DF_ED_SP_SS',\n",
    "                 'VAB_IND','VAB_SERV', 'VAB_AGR',\n",
    "                 'IMP_PROD'],axis=1, inplace=True)"
   ]
  },
  {
   "cell_type": "code",
   "execution_count": 282,
   "metadata": {},
   "outputs": [
    {
     "data": {
      "text/plain": [
       "Index(['Região', 'UF', 'Reg_Metropolitana', 'Mun_Reg_Geog_Imediata',\n",
       "       'Mun_Reg_Geog_Intermediária', 'Tipo_Conc_Urbana', 'Hierarquia_Urbana',\n",
       "       'Hier_Urbana_princ_categ', 'Região_rural', 'Amazônia_Legal',\n",
       "       'Semiárido', 'Cid_Região_São_Paulo', 'PIB_per_capita', 'População',\n",
       "       'Capag', 'VAB_Indústria/Total', 'VAB_Serviço/Total', 'VAB_Adm/Total',\n",
       "       'VAB_Agricultura/Total', 'Imposto_Prod_Percapita'],\n",
       "      dtype='object')"
      ]
     },
     "execution_count": 282,
     "metadata": {},
     "output_type": "execute_result"
    }
   ],
   "source": [
    "df.columns"
   ]
  },
  {
   "cell_type": "markdown",
   "metadata": {},
   "source": [
    "## Análise de Correlação das variáveis quantitativas\n",
    "Não há correlação elevada em nenhum par de variáveis.  \n",
    "Dessa forma, nenhuma variável quantitativa será excluída.  \n",
    "Não incluímos a variável população, mesmo sendo quantitativa"
   ]
  },
  {
   "cell_type": "code",
   "execution_count": 283,
   "metadata": {},
   "outputs": [
    {
     "data": {
      "text/plain": [
       "PIB_per_capita         Imposto_Prod_Percapita    0.689\n",
       "                       VAB_Indústria/Total       0.549\n",
       "VAB_Indústria/Total    Imposto_Prod_Percapita    0.429\n",
       "VAB_Serviço/Total      Imposto_Prod_Percapita    0.326\n",
       "                       População                 0.223\n",
       "População              Imposto_Prod_Percapita    0.136\n",
       "PIB_per_capita         VAB_Serviço/Total         0.126\n",
       "                       VAB_Agricultura/Total     0.089\n",
       "VAB_Indústria/Total    VAB_Serviço/Total         0.084\n",
       "PIB_per_capita         População                 0.071\n",
       "VAB_Indústria/Total    População                 0.057\n",
       "VAB_Adm/Total          População                -0.101\n",
       "VAB_Agricultura/Total  População                -0.132\n",
       "                       Imposto_Prod_Percapita   -0.144\n",
       "VAB_Adm/Total          VAB_Agricultura/Total    -0.247\n",
       "VAB_Indústria/Total    VAB_Agricultura/Total    -0.354\n",
       "VAB_Serviço/Total      VAB_Adm/Total            -0.441\n",
       "                       VAB_Agricultura/Total    -0.449\n",
       "VAB_Adm/Total          Imposto_Prod_Percapita   -0.468\n",
       "VAB_Indústria/Total    VAB_Adm/Total            -0.556\n",
       "PIB_per_capita         VAB_Adm/Total            -0.614\n",
       "dtype: float64"
      ]
     },
     "execution_count": 283,
     "metadata": {},
     "output_type": "execute_result"
    }
   ],
   "source": [
    "df_quanti = df[['PIB_per_capita','VAB_Indústria/Total', 'VAB_Serviço/Total', 'VAB_Adm/Total','VAB_Agricultura/Total','População',\n",
    "               'Imposto_Prod_Percapita']]\n",
    "(\n",
    "    df_quanti.corr()\n",
    "    .pipe(lambda df: pd.DataFrame(\n",
    "        np.where(np.triu(np.ones(df.shape, dtype=int), k=1), df, np.nan),\n",
    "        index=df.index, columns=df.columns))\n",
    "    .stack()\n",
    "    .dropna()\n",
    "    .sort_values(ascending=False)\n",
    ")"
   ]
  },
  {
   "cell_type": "code",
   "execution_count": 339,
   "metadata": {},
   "outputs": [
    {
     "data": {
      "image/png": "[encoded data removed]",
      "text/plain": [
       "<Figure size 432x288 with 2 Axes>"
      ]
     },
     "metadata": {
      "needs_background": "light"
     },
     "output_type": "display_data"
    }
   ],
   "source": [
    "corrMatrix = df_quanti.corr()\n",
    "heatmap = sns.heatmap(corrMatrix, annot=True)\n",
    "#plt.show()\n",
    "plt.savefig('C:/Users/90521463734/OneDrive - Receita Federal do Brasil/00_PREMIOTESOURONACIONAL/corr_matrix5.jpg',bbox_inches='tight', dpi = 100)"
   ]
  },
  {
   "cell_type": "code",
   "execution_count": 285,
   "metadata": {},
   "outputs": [
    {
     "data": {
      "text/html": [
       "<div>\n",
       "<style scoped>\n",
       "    .dataframe tbody tr th:only-of-type {\n",
       "        vertical-align: middle;\n",
       "    }\n",
       "\n",
       "    .dataframe tbody tr th {\n",
       "        vertical-align: top;\n",
       "    }\n",
       "\n",
       "    .dataframe thead th {\n",
       "        text-align: right;\n",
       "    }\n",
       "</style>\n",
       "<table border=\"1\" class=\"dataframe\">\n",
       "  <thead>\n",
       "    <tr style=\"text-align: right;\">\n",
       "      <th></th>\n",
       "      <th>PIB_per_capita</th>\n",
       "      <th>VAB_Indústria/Total</th>\n",
       "      <th>VAB_Serviço/Total</th>\n",
       "      <th>VAB_Adm/Total</th>\n",
       "      <th>VAB_Agricultura/Total</th>\n",
       "      <th>População</th>\n",
       "      <th>Imposto_Prod_Percapita</th>\n",
       "    </tr>\n",
       "  </thead>\n",
       "  <tbody>\n",
       "    <tr>\n",
       "      <th>PIB_per_capita</th>\n",
       "      <td>1.000</td>\n",
       "      <td>0.549</td>\n",
       "      <td>0.126</td>\n",
       "      <td>-0.614</td>\n",
       "      <td>0.089</td>\n",
       "      <td>0.071</td>\n",
       "      <td>0.689</td>\n",
       "    </tr>\n",
       "    <tr>\n",
       "      <th>VAB_Indústria/Total</th>\n",
       "      <td>0.549</td>\n",
       "      <td>1.000</td>\n",
       "      <td>0.084</td>\n",
       "      <td>-0.556</td>\n",
       "      <td>-0.354</td>\n",
       "      <td>0.057</td>\n",
       "      <td>0.429</td>\n",
       "    </tr>\n",
       "    <tr>\n",
       "      <th>VAB_Serviço/Total</th>\n",
       "      <td>0.126</td>\n",
       "      <td>0.084</td>\n",
       "      <td>1.000</td>\n",
       "      <td>-0.441</td>\n",
       "      <td>-0.449</td>\n",
       "      <td>0.223</td>\n",
       "      <td>0.326</td>\n",
       "    </tr>\n",
       "    <tr>\n",
       "      <th>VAB_Adm/Total</th>\n",
       "      <td>-0.614</td>\n",
       "      <td>-0.556</td>\n",
       "      <td>-0.441</td>\n",
       "      <td>1.000</td>\n",
       "      <td>-0.247</td>\n",
       "      <td>-0.101</td>\n",
       "      <td>-0.468</td>\n",
       "    </tr>\n",
       "    <tr>\n",
       "      <th>VAB_Agricultura/Total</th>\n",
       "      <td>0.089</td>\n",
       "      <td>-0.354</td>\n",
       "      <td>-0.449</td>\n",
       "      <td>-0.247</td>\n",
       "      <td>1.000</td>\n",
       "      <td>-0.132</td>\n",
       "      <td>-0.144</td>\n",
       "    </tr>\n",
       "    <tr>\n",
       "      <th>População</th>\n",
       "      <td>0.071</td>\n",
       "      <td>0.057</td>\n",
       "      <td>0.223</td>\n",
       "      <td>-0.101</td>\n",
       "      <td>-0.132</td>\n",
       "      <td>1.000</td>\n",
       "      <td>0.136</td>\n",
       "    </tr>\n",
       "    <tr>\n",
       "      <th>Imposto_Prod_Percapita</th>\n",
       "      <td>0.689</td>\n",
       "      <td>0.429</td>\n",
       "      <td>0.326</td>\n",
       "      <td>-0.468</td>\n",
       "      <td>-0.144</td>\n",
       "      <td>0.136</td>\n",
       "      <td>1.000</td>\n",
       "    </tr>\n",
       "  </tbody>\n",
       "</table>\n",
       "</div>"
      ],
      "text/plain": [
       "                        PIB_per_capita  VAB_Indústria/Total  \\\n",
       "PIB_per_capita                   1.000                0.549   \n",
       "VAB_Indústria/Total              0.549                1.000   \n",
       "VAB_Serviço/Total                0.126                0.084   \n",
       "VAB_Adm/Total                   -0.614               -0.556   \n",
       "VAB_Agricultura/Total            0.089               -0.354   \n",
       "População                        0.071                0.057   \n",
       "Imposto_Prod_Percapita           0.689                0.429   \n",
       "\n",
       "                        VAB_Serviço/Total  VAB_Adm/Total  \\\n",
       "PIB_per_capita                      0.126         -0.614   \n",
       "VAB_Indústria/Total                 0.084         -0.556   \n",
       "VAB_Serviço/Total                   1.000         -0.441   \n",
       "VAB_Adm/Total                      -0.441          1.000   \n",
       "VAB_Agricultura/Total              -0.449         -0.247   \n",
       "População                           0.223         -0.101   \n",
       "Imposto_Prod_Percapita              0.326         -0.468   \n",
       "\n",
       "                        VAB_Agricultura/Total  População  \\\n",
       "PIB_per_capita                          0.089      0.071   \n",
       "VAB_Indústria/Total                    -0.354      0.057   \n",
       "VAB_Serviço/Total                      -0.449      0.223   \n",
       "VAB_Adm/Total                          -0.247     -0.101   \n",
       "VAB_Agricultura/Total                   1.000     -0.132   \n",
       "População                              -0.132      1.000   \n",
       "Imposto_Prod_Percapita                 -0.144      0.136   \n",
       "\n",
       "                        Imposto_Prod_Percapita  \n",
       "PIB_per_capita                           0.689  \n",
       "VAB_Indústria/Total                      0.429  \n",
       "VAB_Serviço/Total                        0.326  \n",
       "VAB_Adm/Total                           -0.468  \n",
       "VAB_Agricultura/Total                   -0.144  \n",
       "População                                0.136  \n",
       "Imposto_Prod_Percapita                   1.000  "
      ]
     },
     "execution_count": 285,
     "metadata": {},
     "output_type": "execute_result"
    }
   ],
   "source": [
    "df_quanti.corr()"
   ]
  },
  {
   "cell_type": "markdown",
   "metadata": {},
   "source": [
    "# Criação de dataframe para uso no streamlit\n",
    "Para melhor compreensão pelos usuários, criaremos o dataframe neste ponto, antes da criação das dummies.    \n",
    "Se mostrarmos o dataset para o usuário com as dummies, poderá parecer confuso e de difícil entendimento."
   ]
  },
  {
   "cell_type": "code",
   "execution_count": 286,
   "metadata": {},
   "outputs": [
    {
     "data": {
      "text/html": [
       "<div>\n",
       "<style scoped>\n",
       "    .dataframe tbody tr th:only-of-type {\n",
       "        vertical-align: middle;\n",
       "    }\n",
       "\n",
       "    .dataframe tbody tr th {\n",
       "        vertical-align: top;\n",
       "    }\n",
       "\n",
       "    .dataframe thead th {\n",
       "        text-align: right;\n",
       "    }\n",
       "</style>\n",
       "<table border=\"1\" class=\"dataframe\">\n",
       "  <thead>\n",
       "    <tr style=\"text-align: right;\">\n",
       "      <th></th>\n",
       "      <th>Região</th>\n",
       "      <th>UF</th>\n",
       "      <th>Reg_Metropolitana</th>\n",
       "      <th>Mun_Reg_Geog_Imediata</th>\n",
       "      <th>Mun_Reg_Geog_Intermediária</th>\n",
       "      <th>Tipo_Conc_Urbana</th>\n",
       "      <th>Hierarquia_Urbana</th>\n",
       "      <th>Hier_Urbana_princ_categ</th>\n",
       "      <th>Região_rural</th>\n",
       "      <th>Amazônia_Legal</th>\n",
       "      <th>Semiárido</th>\n",
       "      <th>Cid_Região_São_Paulo</th>\n",
       "      <th>PIB_per_capita</th>\n",
       "      <th>População</th>\n",
       "      <th>Capag</th>\n",
       "      <th>VAB_Indústria/Total</th>\n",
       "      <th>VAB_Serviço/Total</th>\n",
       "      <th>VAB_Adm/Total</th>\n",
       "      <th>VAB_Agricultura/Total</th>\n",
       "      <th>Imposto_Prod_Percapita</th>\n",
       "    </tr>\n",
       "    <tr>\n",
       "      <th>Município</th>\n",
       "      <th></th>\n",
       "      <th></th>\n",
       "      <th></th>\n",
       "      <th></th>\n",
       "      <th></th>\n",
       "      <th></th>\n",
       "      <th></th>\n",
       "      <th></th>\n",
       "      <th></th>\n",
       "      <th></th>\n",
       "      <th></th>\n",
       "      <th></th>\n",
       "      <th></th>\n",
       "      <th></th>\n",
       "      <th></th>\n",
       "      <th></th>\n",
       "      <th></th>\n",
       "      <th></th>\n",
       "      <th></th>\n",
       "      <th></th>\n",
       "    </tr>\n",
       "  </thead>\n",
       "  <tbody>\n",
       "    <tr>\n",
       "      <th>Alta Floresta D'Oeste</th>\n",
       "      <td>Norte</td>\n",
       "      <td>Rondônia</td>\n",
       "      <td>0</td>\n",
       "      <td>do Entorno</td>\n",
       "      <td>do Entorno</td>\n",
       "      <td>Miss</td>\n",
       "      <td>Centro Local</td>\n",
       "      <td>Centro Local</td>\n",
       "      <td>Região Rural de Capital Regional</td>\n",
       "      <td>Sim</td>\n",
       "      <td>Não</td>\n",
       "      <td>Não</td>\n",
       "      <td>21552</td>\n",
       "      <td>23167</td>\n",
       "      <td>&lt;NA&gt;</td>\n",
       "      <td>0.056</td>\n",
       "      <td>0.262</td>\n",
       "      <td>0.330</td>\n",
       "      <td>0.352</td>\n",
       "      <td>1219.882</td>\n",
       "    </tr>\n",
       "    <tr>\n",
       "      <th>Ariquemes</th>\n",
       "      <td>Norte</td>\n",
       "      <td>Rondônia</td>\n",
       "      <td>0</td>\n",
       "      <td>Polo</td>\n",
       "      <td>do Entorno</td>\n",
       "      <td>Miss</td>\n",
       "      <td>Centro Subregional B</td>\n",
       "      <td>Centro Subregional</td>\n",
       "      <td>Região Rural de Capital Regional</td>\n",
       "      <td>Sim</td>\n",
       "      <td>Não</td>\n",
       "      <td>Não</td>\n",
       "      <td>23206</td>\n",
       "      <td>106168</td>\n",
       "      <td>0</td>\n",
       "      <td>0.154</td>\n",
       "      <td>0.468</td>\n",
       "      <td>0.305</td>\n",
       "      <td>0.074</td>\n",
       "      <td>2376.046</td>\n",
       "    </tr>\n",
       "    <tr>\n",
       "      <th>Cabixi</th>\n",
       "      <td>Norte</td>\n",
       "      <td>Rondônia</td>\n",
       "      <td>0</td>\n",
       "      <td>do Entorno</td>\n",
       "      <td>do Entorno</td>\n",
       "      <td>Miss</td>\n",
       "      <td>Centro Local</td>\n",
       "      <td>Centro Local</td>\n",
       "      <td>Região Rural de Capital Regional</td>\n",
       "      <td>Sim</td>\n",
       "      <td>Não</td>\n",
       "      <td>Não</td>\n",
       "      <td>25837</td>\n",
       "      <td>5438</td>\n",
       "      <td>0</td>\n",
       "      <td>0.038</td>\n",
       "      <td>0.187</td>\n",
       "      <td>0.313</td>\n",
       "      <td>0.462</td>\n",
       "      <td>1039.169</td>\n",
       "    </tr>\n",
       "    <tr>\n",
       "      <th>Cacoal</th>\n",
       "      <td>Norte</td>\n",
       "      <td>Rondônia</td>\n",
       "      <td>0</td>\n",
       "      <td>Polo</td>\n",
       "      <td>do Entorno</td>\n",
       "      <td>Miss</td>\n",
       "      <td>Centro Subregional B</td>\n",
       "      <td>Centro Subregional</td>\n",
       "      <td>Região Rural de Centro Sub-regional</td>\n",
       "      <td>Sim</td>\n",
       "      <td>Não</td>\n",
       "      <td>Não</td>\n",
       "      <td>25708</td>\n",
       "      <td>84813</td>\n",
       "      <td>1</td>\n",
       "      <td>0.114</td>\n",
       "      <td>0.497</td>\n",
       "      <td>0.281</td>\n",
       "      <td>0.109</td>\n",
       "      <td>2655.230</td>\n",
       "    </tr>\n",
       "    <tr>\n",
       "      <th>Cerejeiras</th>\n",
       "      <td>Norte</td>\n",
       "      <td>Rondônia</td>\n",
       "      <td>0</td>\n",
       "      <td>do Entorno</td>\n",
       "      <td>do Entorno</td>\n",
       "      <td>Miss</td>\n",
       "      <td>Centro de Zona B</td>\n",
       "      <td>Centro de Zona</td>\n",
       "      <td>Região Rural de Capital Regional</td>\n",
       "      <td>Sim</td>\n",
       "      <td>Não</td>\n",
       "      <td>Não</td>\n",
       "      <td>28714</td>\n",
       "      <td>16444</td>\n",
       "      <td>0</td>\n",
       "      <td>0.057</td>\n",
       "      <td>0.518</td>\n",
       "      <td>0.272</td>\n",
       "      <td>0.154</td>\n",
       "      <td>4187.728</td>\n",
       "    </tr>\n",
       "  </tbody>\n",
       "</table>\n",
       "</div>"
      ],
      "text/plain": [
       "                      Região        UF Reg_Metropolitana  \\\n",
       "Município                                                  \n",
       "Alta Floresta D'Oeste  Norte  Rondônia                 0   \n",
       "Ariquemes              Norte  Rondônia                 0   \n",
       "Cabixi                 Norte  Rondônia                 0   \n",
       "Cacoal                 Norte  Rondônia                 0   \n",
       "Cerejeiras             Norte  Rondônia                 0   \n",
       "\n",
       "                      Mun_Reg_Geog_Imediata Mun_Reg_Geog_Intermediária  \\\n",
       "Município                                                                \n",
       "Alta Floresta D'Oeste            do Entorno                 do Entorno   \n",
       "Ariquemes                              Polo                 do Entorno   \n",
       "Cabixi                           do Entorno                 do Entorno   \n",
       "Cacoal                                 Polo                 do Entorno   \n",
       "Cerejeiras                       do Entorno                 do Entorno   \n",
       "\n",
       "                      Tipo_Conc_Urbana     Hierarquia_Urbana  \\\n",
       "Município                                                      \n",
       "Alta Floresta D'Oeste             Miss          Centro Local   \n",
       "Ariquemes                         Miss  Centro Subregional B   \n",
       "Cabixi                            Miss          Centro Local   \n",
       "Cacoal                            Miss  Centro Subregional B   \n",
       "Cerejeiras                        Miss      Centro de Zona B   \n",
       "\n",
       "                      Hier_Urbana_princ_categ  \\\n",
       "Município                                       \n",
       "Alta Floresta D'Oeste            Centro Local   \n",
       "Ariquemes                  Centro Subregional   \n",
       "Cabixi                           Centro Local   \n",
       "Cacoal                     Centro Subregional   \n",
       "Cerejeiras                     Centro de Zona   \n",
       "\n",
       "                                              Região_rural Amazônia_Legal  \\\n",
       "Município                                                                   \n",
       "Alta Floresta D'Oeste     Região Rural de Capital Regional            Sim   \n",
       "Ariquemes                 Região Rural de Capital Regional            Sim   \n",
       "Cabixi                    Região Rural de Capital Regional            Sim   \n",
       "Cacoal                 Região Rural de Centro Sub-regional            Sim   \n",
       "Cerejeiras                Região Rural de Capital Regional            Sim   \n",
       "\n",
       "                      Semiárido Cid_Região_São_Paulo  PIB_per_capita  \\\n",
       "Município                                                              \n",
       "Alta Floresta D'Oeste       Não                  Não           21552   \n",
       "Ariquemes                   Não                  Não           23206   \n",
       "Cabixi                      Não                  Não           25837   \n",
       "Cacoal                      Não                  Não           25708   \n",
       "Cerejeiras                  Não                  Não           28714   \n",
       "\n",
       "                       População  Capag  VAB_Indústria/Total  \\\n",
       "Município                                                      \n",
       "Alta Floresta D'Oeste      23167   <NA>                0.056   \n",
       "Ariquemes                 106168      0                0.154   \n",
       "Cabixi                      5438      0                0.038   \n",
       "Cacoal                     84813      1                0.114   \n",
       "Cerejeiras                 16444      0                0.057   \n",
       "\n",
       "                       VAB_Serviço/Total  VAB_Adm/Total  \\\n",
       "Município                                                 \n",
       "Alta Floresta D'Oeste              0.262          0.330   \n",
       "Ariquemes                          0.468          0.305   \n",
       "Cabixi                             0.187          0.313   \n",
       "Cacoal                             0.497          0.281   \n",
       "Cerejeiras                         0.518          0.272   \n",
       "\n",
       "                       VAB_Agricultura/Total  Imposto_Prod_Percapita  \n",
       "Município                                                             \n",
       "Alta Floresta D'Oeste                  0.352                1219.882  \n",
       "Ariquemes                              0.074                2376.046  \n",
       "Cabixi                                 0.462                1039.169  \n",
       "Cacoal                                 0.109                2655.230  \n",
       "Cerejeiras                             0.154                4187.728  "
      ]
     },
     "execution_count": 286,
     "metadata": {},
     "output_type": "execute_result"
    }
   ],
   "source": [
    "df_streamlit = df.copy()\n",
    "df_streamlit.head()"
   ]
  },
  {
   "cell_type": "code",
   "execution_count": 287,
   "metadata": {},
   "outputs": [
    {
     "data": {
      "text/plain": [
       "Index(['Região', 'UF', 'Reg_Metropolitana', 'Mun_Reg_Geog_Imediata',\n",
       "       'Mun_Reg_Geog_Intermediária', 'Tipo_Conc_Urbana', 'Hierarquia_Urbana',\n",
       "       'Hier_Urbana_princ_categ', 'Região_rural', 'Amazônia_Legal',\n",
       "       'Semiárido', 'Cid_Região_São_Paulo', 'PIB_per_capita', 'População',\n",
       "       'Capag', 'VAB_Indústria/Total', 'VAB_Serviço/Total', 'VAB_Adm/Total',\n",
       "       'VAB_Agricultura/Total', 'Imposto_Prod_Percapita'],\n",
       "      dtype='object')"
      ]
     },
     "execution_count": 287,
     "metadata": {},
     "output_type": "execute_result"
    }
   ],
   "source": [
    "df_streamlit.columns"
   ]
  },
  {
   "cell_type": "code",
   "execution_count": 288,
   "metadata": {},
   "outputs": [
    {
     "data": {
      "text/plain": [
       "0    4181\n",
       "1    1389\n",
       "Name: Reg_Metropolitana, dtype: int64"
      ]
     },
     "execution_count": 288,
     "metadata": {},
     "output_type": "execute_result"
    }
   ],
   "source": [
    "df_streamlit['Reg_Metropolitana'].value_counts()"
   ]
  },
  {
   "cell_type": "code",
   "execution_count": 289,
   "metadata": {},
   "outputs": [
    {
     "data": {
      "text/html": [
       "<div>\n",
       "<style scoped>\n",
       "    .dataframe tbody tr th:only-of-type {\n",
       "        vertical-align: middle;\n",
       "    }\n",
       "\n",
       "    .dataframe tbody tr th {\n",
       "        vertical-align: top;\n",
       "    }\n",
       "\n",
       "    .dataframe thead th {\n",
       "        text-align: right;\n",
       "    }\n",
       "</style>\n",
       "<table border=\"1\" class=\"dataframe\">\n",
       "  <thead>\n",
       "    <tr style=\"text-align: right;\">\n",
       "      <th></th>\n",
       "      <th>Região</th>\n",
       "      <th>UF</th>\n",
       "      <th>Reg_Metropolitana</th>\n",
       "      <th>Mun_Reg_Geog_Imediata</th>\n",
       "      <th>Mun_Reg_Geog_Intermediária</th>\n",
       "      <th>Tipo_Conc_Urbana</th>\n",
       "      <th>Hierarquia_Urbana</th>\n",
       "      <th>Hier_Urbana_princ_categ</th>\n",
       "      <th>Região_rural</th>\n",
       "      <th>Amazônia_Legal</th>\n",
       "      <th>Semiárido</th>\n",
       "      <th>Cid_Região_São_Paulo</th>\n",
       "      <th>PIB_per_capita</th>\n",
       "      <th>População</th>\n",
       "      <th>Capag</th>\n",
       "      <th>VAB_Indústria/Total</th>\n",
       "      <th>VAB_Serviço/Total</th>\n",
       "      <th>VAB_Adm/Total</th>\n",
       "      <th>VAB_Agricultura/Total</th>\n",
       "      <th>Imposto_Prod_Percapita</th>\n",
       "    </tr>\n",
       "    <tr>\n",
       "      <th>Município</th>\n",
       "      <th></th>\n",
       "      <th></th>\n",
       "      <th></th>\n",
       "      <th></th>\n",
       "      <th></th>\n",
       "      <th></th>\n",
       "      <th></th>\n",
       "      <th></th>\n",
       "      <th></th>\n",
       "      <th></th>\n",
       "      <th></th>\n",
       "      <th></th>\n",
       "      <th></th>\n",
       "      <th></th>\n",
       "      <th></th>\n",
       "      <th></th>\n",
       "      <th></th>\n",
       "      <th></th>\n",
       "      <th></th>\n",
       "      <th></th>\n",
       "    </tr>\n",
       "  </thead>\n",
       "  <tbody>\n",
       "    <tr>\n",
       "      <th>Alta Floresta D'Oeste</th>\n",
       "      <td>Norte</td>\n",
       "      <td>Rondônia</td>\n",
       "      <td>Não</td>\n",
       "      <td>do Entorno</td>\n",
       "      <td>do Entorno</td>\n",
       "      <td>&lt;NA&gt;</td>\n",
       "      <td>Centro Local</td>\n",
       "      <td>Centro Local</td>\n",
       "      <td>Região Rural de Capital Regional</td>\n",
       "      <td>Sim</td>\n",
       "      <td>Não</td>\n",
       "      <td>Não</td>\n",
       "      <td>21552</td>\n",
       "      <td>23167</td>\n",
       "      <td>&lt;NA&gt;</td>\n",
       "      <td>0.056</td>\n",
       "      <td>0.262</td>\n",
       "      <td>0.330</td>\n",
       "      <td>0.352</td>\n",
       "      <td>1219.882</td>\n",
       "    </tr>\n",
       "    <tr>\n",
       "      <th>Ariquemes</th>\n",
       "      <td>Norte</td>\n",
       "      <td>Rondônia</td>\n",
       "      <td>Não</td>\n",
       "      <td>Polo</td>\n",
       "      <td>do Entorno</td>\n",
       "      <td>&lt;NA&gt;</td>\n",
       "      <td>Centro Subregional B</td>\n",
       "      <td>Centro Subregional</td>\n",
       "      <td>Região Rural de Capital Regional</td>\n",
       "      <td>Sim</td>\n",
       "      <td>Não</td>\n",
       "      <td>Não</td>\n",
       "      <td>23206</td>\n",
       "      <td>106168</td>\n",
       "      <td>0</td>\n",
       "      <td>0.154</td>\n",
       "      <td>0.468</td>\n",
       "      <td>0.305</td>\n",
       "      <td>0.074</td>\n",
       "      <td>2376.046</td>\n",
       "    </tr>\n",
       "    <tr>\n",
       "      <th>Cabixi</th>\n",
       "      <td>Norte</td>\n",
       "      <td>Rondônia</td>\n",
       "      <td>Não</td>\n",
       "      <td>do Entorno</td>\n",
       "      <td>do Entorno</td>\n",
       "      <td>&lt;NA&gt;</td>\n",
       "      <td>Centro Local</td>\n",
       "      <td>Centro Local</td>\n",
       "      <td>Região Rural de Capital Regional</td>\n",
       "      <td>Sim</td>\n",
       "      <td>Não</td>\n",
       "      <td>Não</td>\n",
       "      <td>25837</td>\n",
       "      <td>5438</td>\n",
       "      <td>0</td>\n",
       "      <td>0.038</td>\n",
       "      <td>0.187</td>\n",
       "      <td>0.313</td>\n",
       "      <td>0.462</td>\n",
       "      <td>1039.169</td>\n",
       "    </tr>\n",
       "    <tr>\n",
       "      <th>Cacoal</th>\n",
       "      <td>Norte</td>\n",
       "      <td>Rondônia</td>\n",
       "      <td>Não</td>\n",
       "      <td>Polo</td>\n",
       "      <td>do Entorno</td>\n",
       "      <td>&lt;NA&gt;</td>\n",
       "      <td>Centro Subregional B</td>\n",
       "      <td>Centro Subregional</td>\n",
       "      <td>Região Rural de Centro Sub-regional</td>\n",
       "      <td>Sim</td>\n",
       "      <td>Não</td>\n",
       "      <td>Não</td>\n",
       "      <td>25708</td>\n",
       "      <td>84813</td>\n",
       "      <td>1</td>\n",
       "      <td>0.114</td>\n",
       "      <td>0.497</td>\n",
       "      <td>0.281</td>\n",
       "      <td>0.109</td>\n",
       "      <td>2655.230</td>\n",
       "    </tr>\n",
       "    <tr>\n",
       "      <th>Cerejeiras</th>\n",
       "      <td>Norte</td>\n",
       "      <td>Rondônia</td>\n",
       "      <td>Não</td>\n",
       "      <td>do Entorno</td>\n",
       "      <td>do Entorno</td>\n",
       "      <td>&lt;NA&gt;</td>\n",
       "      <td>Centro de Zona B</td>\n",
       "      <td>Centro de Zona</td>\n",
       "      <td>Região Rural de Capital Regional</td>\n",
       "      <td>Sim</td>\n",
       "      <td>Não</td>\n",
       "      <td>Não</td>\n",
       "      <td>28714</td>\n",
       "      <td>16444</td>\n",
       "      <td>0</td>\n",
       "      <td>0.057</td>\n",
       "      <td>0.518</td>\n",
       "      <td>0.272</td>\n",
       "      <td>0.154</td>\n",
       "      <td>4187.728</td>\n",
       "    </tr>\n",
       "  </tbody>\n",
       "</table>\n",
       "</div>"
      ],
      "text/plain": [
       "                      Região        UF Reg_Metropolitana  \\\n",
       "Município                                                  \n",
       "Alta Floresta D'Oeste  Norte  Rondônia               Não   \n",
       "Ariquemes              Norte  Rondônia               Não   \n",
       "Cabixi                 Norte  Rondônia               Não   \n",
       "Cacoal                 Norte  Rondônia               Não   \n",
       "Cerejeiras             Norte  Rondônia               Não   \n",
       "\n",
       "                      Mun_Reg_Geog_Imediata Mun_Reg_Geog_Intermediária  \\\n",
       "Município                                                                \n",
       "Alta Floresta D'Oeste            do Entorno                 do Entorno   \n",
       "Ariquemes                              Polo                 do Entorno   \n",
       "Cabixi                           do Entorno                 do Entorno   \n",
       "Cacoal                                 Polo                 do Entorno   \n",
       "Cerejeiras                       do Entorno                 do Entorno   \n",
       "\n",
       "                      Tipo_Conc_Urbana     Hierarquia_Urbana  \\\n",
       "Município                                                      \n",
       "Alta Floresta D'Oeste             <NA>          Centro Local   \n",
       "Ariquemes                         <NA>  Centro Subregional B   \n",
       "Cabixi                            <NA>          Centro Local   \n",
       "Cacoal                            <NA>  Centro Subregional B   \n",
       "Cerejeiras                        <NA>      Centro de Zona B   \n",
       "\n",
       "                      Hier_Urbana_princ_categ  \\\n",
       "Município                                       \n",
       "Alta Floresta D'Oeste            Centro Local   \n",
       "Ariquemes                  Centro Subregional   \n",
       "Cabixi                           Centro Local   \n",
       "Cacoal                     Centro Subregional   \n",
       "Cerejeiras                     Centro de Zona   \n",
       "\n",
       "                                              Região_rural Amazônia_Legal  \\\n",
       "Município                                                                   \n",
       "Alta Floresta D'Oeste     Região Rural de Capital Regional            Sim   \n",
       "Ariquemes                 Região Rural de Capital Regional            Sim   \n",
       "Cabixi                    Região Rural de Capital Regional            Sim   \n",
       "Cacoal                 Região Rural de Centro Sub-regional            Sim   \n",
       "Cerejeiras                Região Rural de Capital Regional            Sim   \n",
       "\n",
       "                      Semiárido Cid_Região_São_Paulo  PIB_per_capita  \\\n",
       "Município                                                              \n",
       "Alta Floresta D'Oeste       Não                  Não           21552   \n",
       "Ariquemes                   Não                  Não           23206   \n",
       "Cabixi                      Não                  Não           25837   \n",
       "Cacoal                      Não                  Não           25708   \n",
       "Cerejeiras                  Não                  Não           28714   \n",
       "\n",
       "                       População  Capag  VAB_Indústria/Total  \\\n",
       "Município                                                      \n",
       "Alta Floresta D'Oeste      23167   <NA>                0.056   \n",
       "Ariquemes                 106168      0                0.154   \n",
       "Cabixi                      5438      0                0.038   \n",
       "Cacoal                     84813      1                0.114   \n",
       "Cerejeiras                 16444      0                0.057   \n",
       "\n",
       "                       VAB_Serviço/Total  VAB_Adm/Total  \\\n",
       "Município                                                 \n",
       "Alta Floresta D'Oeste              0.262          0.330   \n",
       "Ariquemes                          0.468          0.305   \n",
       "Cabixi                             0.187          0.313   \n",
       "Cacoal                             0.497          0.281   \n",
       "Cerejeiras                         0.518          0.272   \n",
       "\n",
       "                       VAB_Agricultura/Total  Imposto_Prod_Percapita  \n",
       "Município                                                             \n",
       "Alta Floresta D'Oeste                  0.352                1219.882  \n",
       "Ariquemes                              0.074                2376.046  \n",
       "Cabixi                                 0.462                1039.169  \n",
       "Cacoal                                 0.109                2655.230  \n",
       "Cerejeiras                             0.154                4187.728  "
      ]
     },
     "execution_count": 289,
     "metadata": {},
     "output_type": "execute_result"
    }
   ],
   "source": [
    "df_streamlit['Reg_Metropolitana'] = df_streamlit['Reg_Metropolitana'].replace({0:'Não', 1: 'Sim'})\n",
    "df_streamlit['Tipo_Conc_Urbana'] = df_streamlit['Tipo_Conc_Urbana'].replace({'Miss':'<NA>'})\n",
    "df_streamlit.head()"
   ]
  },
  {
   "cell_type": "code",
   "execution_count": 290,
   "metadata": {},
   "outputs": [
    {
     "data": {
      "text/plain": [
       "Não    4181\n",
       "Sim    1389\n",
       "Name: Reg_Metropolitana, dtype: int64"
      ]
     },
     "execution_count": 290,
     "metadata": {},
     "output_type": "execute_result"
    }
   ],
   "source": [
    "df_streamlit['Reg_Metropolitana'].value_counts()"
   ]
  },
  {
   "cell_type": "code",
   "execution_count": 291,
   "metadata": {},
   "outputs": [
    {
     "data": {
      "text/plain": [
       "[('Região',\n",
       "  array(['Norte', 'Nordeste', 'Sudeste', 'Sul', 'Centro-oeste'],\n",
       "        dtype=object)),\n",
       " ('UF',\n",
       "  array(['Rondônia', 'Acre', 'Amazonas', 'Roraima', 'Pará', 'Amapá',\n",
       "         'Tocantins', 'Maranhão', 'Piauí', 'Ceará', 'Rio Grande do Norte',\n",
       "         'Paraíba', 'Pernambuco', 'Alagoas', 'Sergipe', 'Bahia',\n",
       "         'Minas Gerais', 'Espírito Santo', 'Rio de Janeiro', 'São Paulo',\n",
       "         'Paraná', 'Santa Catarina', 'Rio Grande do Sul',\n",
       "         'Mato Grosso do Sul', 'Mato Grosso', 'Goiás', 'Distrito Federal'],\n",
       "        dtype=object)),\n",
       " ('Reg_Metropolitana', array(['Não', 'Sim'], dtype=object)),\n",
       " ('Mun_Reg_Geog_Imediata', array(['do Entorno', 'Polo'], dtype=object)),\n",
       " ('Mun_Reg_Geog_Intermediária', array(['do Entorno', 'Polo'], dtype=object)),\n",
       " ('Tipo_Conc_Urbana',\n",
       "  array(['<NA>', 'Média concentração urbana', 'Grande concentração urbana'],\n",
       "        dtype=object)),\n",
       " ('Hierarquia_Urbana',\n",
       "  array(['Centro Local', 'Centro Subregional B', 'Centro de Zona B',\n",
       "         'Centro de Zona A', 'Centro Subregional A', 'Capital Regional B',\n",
       "         'Capital Regional C', 'Núcleo de Metrópole',\n",
       "         'Integrante de Metrópole', 'Núcleo de Capital Regional C',\n",
       "         'Integrante de Capital Regional C',\n",
       "         'Integrante de Capital Regional A', 'Núcleo de Capital Regional A',\n",
       "         'Núcleo de Capital Regional B', 'Integrante de Capital Regional B',\n",
       "         'Integrante de Centro de Zona A', 'Núcleo de Centro de Zona A'],\n",
       "        dtype=object)),\n",
       " ('Hier_Urbana_princ_categ',\n",
       "  array(['Centro Local', 'Centro Subregional', 'Centro de Zona',\n",
       "         'Capital Regional', 'Metrópole'], dtype=object)),\n",
       " ('Região_rural',\n",
       "  array(['Região Rural de Capital Regional',\n",
       "         'Região Rural de Centro Sub-regional',\n",
       "         'Região Rural de Centro de zona', 'Região Rural de Metrópole',\n",
       "         'Região Rural de Metrópole Nacional',\n",
       "         'Região Rural de Grande Metrópole Nacional'], dtype=object)),\n",
       " ('Amazônia_Legal', array(['Sim', 'Não'], dtype=object)),\n",
       " ('Semiárido', array(['Não', 'Sim'], dtype=object)),\n",
       " ('Cid_Região_São_Paulo', array(['Não', 'Sim'], dtype=object)),\n",
       " ('PIB_per_capita', array([21552, 23206, 25837, ..., 17160, 28444, 85661])),\n",
       " ('População',\n",
       "  array([  23167,  106168,    5438, ...,    6026,    5758, 2974703],\n",
       "        dtype=int64)),\n",
       " ('Capag',\n",
       "  <IntegerArray>\n",
       "  [<NA>, 0, 1]\n",
       "  Length: 3, dtype: Int64),\n",
       " ('VAB_Indústria/Total',\n",
       "  array([0.05597991, 0.15359039, 0.03839822, ..., 0.12718578, 0.07823634,\n",
       "         0.04219481])),\n",
       " ('VAB_Serviço/Total',\n",
       "  array([0.26220905, 0.46763617, 0.18665184, ..., 0.27106253, 0.17269557,\n",
       "         0.50312052])),\n",
       " ('VAB_Adm/Total',\n",
       "  array([0.32963163, 0.30501349, 0.31266593, ..., 0.29698094, 0.17223279,\n",
       "         0.45016198])),\n",
       " ('VAB_Agricultura/Total',\n",
       "  array([0.35217941, 0.07375949, 0.46226919, ..., 0.30476055, 0.57682896,\n",
       "         0.00452268])),\n",
       " ('Imposto_Prod_Percapita',\n",
       "  array([1219.88172832, 2376.04551277, 1039.16881206, ...,  884.50049784,\n",
       "         1049.14901007, 9645.42914032]))]"
      ]
     },
     "execution_count": 291,
     "metadata": {},
     "output_type": "execute_result"
    }
   ],
   "source": [
    "# Verificação dos valores únicos\n",
    "[(df_streamlit[col].name, df_streamlit[col].unique()) for col in df_streamlit.columns]"
   ]
  },
  {
   "cell_type": "code",
   "execution_count": 292,
   "metadata": {},
   "outputs": [
    {
     "data": {
      "text/plain": [
       "Região                           0\n",
       "UF                               0\n",
       "Reg_Metropolitana                0\n",
       "Mun_Reg_Geog_Imediata            0\n",
       "Mun_Reg_Geog_Intermediária       0\n",
       "Tipo_Conc_Urbana                 0\n",
       "Hierarquia_Urbana                0\n",
       "Hier_Urbana_princ_categ          0\n",
       "Região_rural                     0\n",
       "Amazônia_Legal                   0\n",
       "Semiárido                        0\n",
       "Cid_Região_São_Paulo             0\n",
       "PIB_per_capita                   0\n",
       "População                        0\n",
       "Capag                         1152\n",
       "VAB_Indústria/Total              0\n",
       "VAB_Serviço/Total                0\n",
       "VAB_Adm/Total                    0\n",
       "VAB_Agricultura/Total            0\n",
       "Imposto_Prod_Percapita           0\n",
       "dtype: int64"
      ]
     },
     "execution_count": 292,
     "metadata": {},
     "output_type": "execute_result"
    }
   ],
   "source": [
    "df_streamlit.isna().sum()"
   ]
  },
  {
   "cell_type": "code",
   "execution_count": 294,
   "metadata": {},
   "outputs": [
    {
     "data": {
      "text/html": [
       "<div>\n",
       "<style scoped>\n",
       "    .dataframe tbody tr th:only-of-type {\n",
       "        vertical-align: middle;\n",
       "    }\n",
       "\n",
       "    .dataframe tbody tr th {\n",
       "        vertical-align: top;\n",
       "    }\n",
       "\n",
       "    .dataframe thead th {\n",
       "        text-align: right;\n",
       "    }\n",
       "</style>\n",
       "<table border=\"1\" class=\"dataframe\">\n",
       "  <thead>\n",
       "    <tr style=\"text-align: right;\">\n",
       "      <th></th>\n",
       "      <th>PIB_per_capita</th>\n",
       "      <th>População</th>\n",
       "      <th>Capag</th>\n",
       "      <th>VAB_Indústria/Total</th>\n",
       "      <th>VAB_Serviço/Total</th>\n",
       "      <th>VAB_Adm/Total</th>\n",
       "      <th>VAB_Agricultura/Total</th>\n",
       "      <th>Imposto_Prod_Percapita</th>\n",
       "    </tr>\n",
       "  </thead>\n",
       "  <tbody>\n",
       "    <tr>\n",
       "      <th>count</th>\n",
       "      <td>5570.000</td>\n",
       "      <td>5570.000</td>\n",
       "      <td>4418.000</td>\n",
       "      <td>5570.000</td>\n",
       "      <td>5570.000</td>\n",
       "      <td>5570.000</td>\n",
       "      <td>5570.000</td>\n",
       "      <td>5570.000</td>\n",
       "    </tr>\n",
       "    <tr>\n",
       "      <th>mean</th>\n",
       "      <td>23513.443</td>\n",
       "      <td>37431.759</td>\n",
       "      <td>0.504</td>\n",
       "      <td>0.133</td>\n",
       "      <td>0.342</td>\n",
       "      <td>0.338</td>\n",
       "      <td>0.187</td>\n",
       "      <td>1951.098</td>\n",
       "    </tr>\n",
       "    <tr>\n",
       "      <th>std</th>\n",
       "      <td>24238.467</td>\n",
       "      <td>219969.003</td>\n",
       "      <td>0.500</td>\n",
       "      <td>0.140</td>\n",
       "      <td>0.134</td>\n",
       "      <td>0.175</td>\n",
       "      <td>0.153</td>\n",
       "      <td>3530.784</td>\n",
       "    </tr>\n",
       "    <tr>\n",
       "      <th>min</th>\n",
       "      <td>4788.000</td>\n",
       "      <td>786.000</td>\n",
       "      <td>0.000</td>\n",
       "      <td>0.012</td>\n",
       "      <td>0.021</td>\n",
       "      <td>0.018</td>\n",
       "      <td>0.000</td>\n",
       "      <td>17.553</td>\n",
       "    </tr>\n",
       "    <tr>\n",
       "      <th>25%</th>\n",
       "      <td>9880.250</td>\n",
       "      <td>5454.000</td>\n",
       "      <td>0.000</td>\n",
       "      <td>0.043</td>\n",
       "      <td>0.240</td>\n",
       "      <td>0.190</td>\n",
       "      <td>0.068</td>\n",
       "      <td>435.002</td>\n",
       "    </tr>\n",
       "    <tr>\n",
       "      <th>50%</th>\n",
       "      <td>17433.500</td>\n",
       "      <td>11590.500</td>\n",
       "      <td>1.000</td>\n",
       "      <td>0.070</td>\n",
       "      <td>0.318</td>\n",
       "      <td>0.305</td>\n",
       "      <td>0.141</td>\n",
       "      <td>962.439</td>\n",
       "    </tr>\n",
       "    <tr>\n",
       "      <th>75%</th>\n",
       "      <td>28729.250</td>\n",
       "      <td>25295.500</td>\n",
       "      <td>1.000</td>\n",
       "      <td>0.170</td>\n",
       "      <td>0.429</td>\n",
       "      <td>0.479</td>\n",
       "      <td>0.283</td>\n",
       "      <td>2204.083</td>\n",
       "    </tr>\n",
       "    <tr>\n",
       "      <th>max</th>\n",
       "      <td>583171.000</td>\n",
       "      <td>12176866.000</td>\n",
       "      <td>1.000</td>\n",
       "      <td>0.938</td>\n",
       "      <td>0.898</td>\n",
       "      <td>0.883</td>\n",
       "      <td>0.852</td>\n",
       "      <td>76589.687</td>\n",
       "    </tr>\n",
       "  </tbody>\n",
       "</table>\n",
       "</div>"
      ],
      "text/plain": [
       "       PIB_per_capita    População    Capag  VAB_Indústria/Total  \\\n",
       "count        5570.000     5570.000 4418.000             5570.000   \n",
       "mean        23513.443    37431.759    0.504                0.133   \n",
       "std         24238.467   219969.003    0.500                0.140   \n",
       "min          4788.000      786.000    0.000                0.012   \n",
       "25%          9880.250     5454.000    0.000                0.043   \n",
       "50%         17433.500    11590.500    1.000                0.070   \n",
       "75%         28729.250    25295.500    1.000                0.170   \n",
       "max        583171.000 12176866.000    1.000                0.938   \n",
       "\n",
       "       VAB_Serviço/Total  VAB_Adm/Total  VAB_Agricultura/Total  \\\n",
       "count           5570.000       5570.000               5570.000   \n",
       "mean               0.342          0.338                  0.187   \n",
       "std                0.134          0.175                  0.153   \n",
       "min                0.021          0.018                  0.000   \n",
       "25%                0.240          0.190                  0.068   \n",
       "50%                0.318          0.305                  0.141   \n",
       "75%                0.429          0.479                  0.283   \n",
       "max                0.898          0.883                  0.852   \n",
       "\n",
       "       Imposto_Prod_Percapita  \n",
       "count                5570.000  \n",
       "mean                 1951.098  \n",
       "std                  3530.784  \n",
       "min                    17.553  \n",
       "25%                   435.002  \n",
       "50%                   962.439  \n",
       "75%                  2204.083  \n",
       "max                 76589.687  "
      ]
     },
     "execution_count": 294,
     "metadata": {},
     "output_type": "execute_result"
    }
   ],
   "source": [
    "df_streamlit.describe()"
   ]
  },
  {
   "cell_type": "code",
   "execution_count": 295,
   "metadata": {},
   "outputs": [
    {
     "data": {
      "text/html": [
       "<div>\n",
       "<style scoped>\n",
       "    .dataframe tbody tr th:only-of-type {\n",
       "        vertical-align: middle;\n",
       "    }\n",
       "\n",
       "    .dataframe tbody tr th {\n",
       "        vertical-align: top;\n",
       "    }\n",
       "\n",
       "    .dataframe thead th {\n",
       "        text-align: right;\n",
       "    }\n",
       "</style>\n",
       "<table border=\"1\" class=\"dataframe\">\n",
       "  <thead>\n",
       "    <tr style=\"text-align: right;\">\n",
       "      <th></th>\n",
       "      <th>Região</th>\n",
       "      <th>UF</th>\n",
       "      <th>Reg_Metropolitana</th>\n",
       "      <th>Mun_Reg_Geog_Imediata</th>\n",
       "      <th>Mun_Reg_Geog_Intermediária</th>\n",
       "      <th>Tipo_Conc_Urbana</th>\n",
       "      <th>Hierarquia_Urbana</th>\n",
       "      <th>Hier_Urbana_princ_categ</th>\n",
       "      <th>Região_rural</th>\n",
       "      <th>Amazônia_Legal</th>\n",
       "      <th>Semiárido</th>\n",
       "      <th>Cid_Região_São_Paulo</th>\n",
       "      <th>PIB_per_capita</th>\n",
       "      <th>VAB_Indústria/Total</th>\n",
       "      <th>VAB_Serviço/Total</th>\n",
       "      <th>VAB_Adm/Total</th>\n",
       "      <th>VAB_Agricultura/Total</th>\n",
       "      <th>População</th>\n",
       "      <th>Imposto_Prod_Percapita</th>\n",
       "      <th>Capag</th>\n",
       "    </tr>\n",
       "    <tr>\n",
       "      <th>Município</th>\n",
       "      <th></th>\n",
       "      <th></th>\n",
       "      <th></th>\n",
       "      <th></th>\n",
       "      <th></th>\n",
       "      <th></th>\n",
       "      <th></th>\n",
       "      <th></th>\n",
       "      <th></th>\n",
       "      <th></th>\n",
       "      <th></th>\n",
       "      <th></th>\n",
       "      <th></th>\n",
       "      <th></th>\n",
       "      <th></th>\n",
       "      <th></th>\n",
       "      <th></th>\n",
       "      <th></th>\n",
       "      <th></th>\n",
       "      <th></th>\n",
       "    </tr>\n",
       "  </thead>\n",
       "  <tbody>\n",
       "    <tr>\n",
       "      <th>Alta Floresta D'Oeste</th>\n",
       "      <td>Norte</td>\n",
       "      <td>Rondônia</td>\n",
       "      <td>Não</td>\n",
       "      <td>do Entorno</td>\n",
       "      <td>do Entorno</td>\n",
       "      <td>&lt;NA&gt;</td>\n",
       "      <td>Centro Local</td>\n",
       "      <td>Centro Local</td>\n",
       "      <td>Região Rural de Capital Regional</td>\n",
       "      <td>Sim</td>\n",
       "      <td>Não</td>\n",
       "      <td>Não</td>\n",
       "      <td>21552</td>\n",
       "      <td>0.056</td>\n",
       "      <td>0.262</td>\n",
       "      <td>0.330</td>\n",
       "      <td>0.352</td>\n",
       "      <td>23167</td>\n",
       "      <td>1219.882</td>\n",
       "      <td>&lt;NA&gt;</td>\n",
       "    </tr>\n",
       "    <tr>\n",
       "      <th>Ariquemes</th>\n",
       "      <td>Norte</td>\n",
       "      <td>Rondônia</td>\n",
       "      <td>Não</td>\n",
       "      <td>Polo</td>\n",
       "      <td>do Entorno</td>\n",
       "      <td>&lt;NA&gt;</td>\n",
       "      <td>Centro Subregional B</td>\n",
       "      <td>Centro Subregional</td>\n",
       "      <td>Região Rural de Capital Regional</td>\n",
       "      <td>Sim</td>\n",
       "      <td>Não</td>\n",
       "      <td>Não</td>\n",
       "      <td>23206</td>\n",
       "      <td>0.154</td>\n",
       "      <td>0.468</td>\n",
       "      <td>0.305</td>\n",
       "      <td>0.074</td>\n",
       "      <td>106168</td>\n",
       "      <td>2376.046</td>\n",
       "      <td>0</td>\n",
       "    </tr>\n",
       "  </tbody>\n",
       "</table>\n",
       "</div>"
      ],
      "text/plain": [
       "                      Região        UF Reg_Metropolitana  \\\n",
       "Município                                                  \n",
       "Alta Floresta D'Oeste  Norte  Rondônia               Não   \n",
       "Ariquemes              Norte  Rondônia               Não   \n",
       "\n",
       "                      Mun_Reg_Geog_Imediata Mun_Reg_Geog_Intermediária  \\\n",
       "Município                                                                \n",
       "Alta Floresta D'Oeste            do Entorno                 do Entorno   \n",
       "Ariquemes                              Polo                 do Entorno   \n",
       "\n",
       "                      Tipo_Conc_Urbana     Hierarquia_Urbana  \\\n",
       "Município                                                      \n",
       "Alta Floresta D'Oeste             <NA>          Centro Local   \n",
       "Ariquemes                         <NA>  Centro Subregional B   \n",
       "\n",
       "                      Hier_Urbana_princ_categ  \\\n",
       "Município                                       \n",
       "Alta Floresta D'Oeste            Centro Local   \n",
       "Ariquemes                  Centro Subregional   \n",
       "\n",
       "                                           Região_rural Amazônia_Legal  \\\n",
       "Município                                                                \n",
       "Alta Floresta D'Oeste  Região Rural de Capital Regional            Sim   \n",
       "Ariquemes              Região Rural de Capital Regional            Sim   \n",
       "\n",
       "                      Semiárido Cid_Região_São_Paulo  PIB_per_capita  \\\n",
       "Município                                                              \n",
       "Alta Floresta D'Oeste       Não                  Não           21552   \n",
       "Ariquemes                   Não                  Não           23206   \n",
       "\n",
       "                       VAB_Indústria/Total  VAB_Serviço/Total  VAB_Adm/Total  \\\n",
       "Município                                                                      \n",
       "Alta Floresta D'Oeste                0.056              0.262          0.330   \n",
       "Ariquemes                            0.154              0.468          0.305   \n",
       "\n",
       "                       VAB_Agricultura/Total  População  \\\n",
       "Município                                                 \n",
       "Alta Floresta D'Oeste                  0.352      23167   \n",
       "Ariquemes                              0.074     106168   \n",
       "\n",
       "                       Imposto_Prod_Percapita  Capag  \n",
       "Município                                             \n",
       "Alta Floresta D'Oeste                1219.882   <NA>  \n",
       "Ariquemes                            2376.046      0  "
      ]
     },
     "execution_count": 295,
     "metadata": {},
     "output_type": "execute_result"
    }
   ],
   "source": [
    "df_streamlit = df_streamlit.reindex(['Região', 'UF', 'Reg_Metropolitana', 'Mun_Reg_Geog_Imediata',\n",
    "       'Mun_Reg_Geog_Intermediária', 'Tipo_Conc_Urbana', 'Hierarquia_Urbana',\n",
    "       'Hier_Urbana_princ_categ', 'Região_rural', 'Amazônia_Legal',\n",
    "       'Semiárido', 'Cid_Região_São_Paulo', 'PIB_per_capita', \n",
    "       'VAB_Indústria/Total', 'VAB_Serviço/Total', 'VAB_Adm/Total',\n",
    "       'VAB_Agricultura/Total','População','Imposto_Prod_Percapita','Capag'], axis = 1)\n",
    "df_streamlit.head(2)"
   ]
  },
  {
   "cell_type": "code",
   "execution_count": 296,
   "metadata": {},
   "outputs": [
    {
     "data": {
      "text/html": [
       "<div>\n",
       "<style scoped>\n",
       "    .dataframe tbody tr th:only-of-type {\n",
       "        vertical-align: middle;\n",
       "    }\n",
       "\n",
       "    .dataframe tbody tr th {\n",
       "        vertical-align: top;\n",
       "    }\n",
       "\n",
       "    .dataframe thead th {\n",
       "        text-align: right;\n",
       "    }\n",
       "</style>\n",
       "<table border=\"1\" class=\"dataframe\">\n",
       "  <thead>\n",
       "    <tr style=\"text-align: right;\">\n",
       "      <th></th>\n",
       "      <th>PIB_per_capita</th>\n",
       "      <th>VAB_Indústria/Total</th>\n",
       "      <th>VAB_Serviço/Total</th>\n",
       "      <th>VAB_Adm/Total</th>\n",
       "      <th>VAB_Agricultura/Total</th>\n",
       "      <th>População</th>\n",
       "      <th>Imposto_Prod_Percapita</th>\n",
       "      <th>Capag</th>\n",
       "    </tr>\n",
       "  </thead>\n",
       "  <tbody>\n",
       "    <tr>\n",
       "      <th>count</th>\n",
       "      <td>5570.000</td>\n",
       "      <td>5570.000</td>\n",
       "      <td>5570.000</td>\n",
       "      <td>5570.000</td>\n",
       "      <td>5570.000</td>\n",
       "      <td>5570.000</td>\n",
       "      <td>5570.000</td>\n",
       "      <td>4418.000</td>\n",
       "    </tr>\n",
       "    <tr>\n",
       "      <th>mean</th>\n",
       "      <td>23513.443</td>\n",
       "      <td>0.133</td>\n",
       "      <td>0.342</td>\n",
       "      <td>0.338</td>\n",
       "      <td>0.187</td>\n",
       "      <td>37431.759</td>\n",
       "      <td>1951.098</td>\n",
       "      <td>0.504</td>\n",
       "    </tr>\n",
       "    <tr>\n",
       "      <th>std</th>\n",
       "      <td>24238.467</td>\n",
       "      <td>0.140</td>\n",
       "      <td>0.134</td>\n",
       "      <td>0.175</td>\n",
       "      <td>0.153</td>\n",
       "      <td>219969.003</td>\n",
       "      <td>3530.784</td>\n",
       "      <td>0.500</td>\n",
       "    </tr>\n",
       "    <tr>\n",
       "      <th>min</th>\n",
       "      <td>4788.000</td>\n",
       "      <td>0.012</td>\n",
       "      <td>0.021</td>\n",
       "      <td>0.018</td>\n",
       "      <td>0.000</td>\n",
       "      <td>786.000</td>\n",
       "      <td>17.553</td>\n",
       "      <td>0.000</td>\n",
       "    </tr>\n",
       "    <tr>\n",
       "      <th>25%</th>\n",
       "      <td>9880.250</td>\n",
       "      <td>0.043</td>\n",
       "      <td>0.240</td>\n",
       "      <td>0.190</td>\n",
       "      <td>0.068</td>\n",
       "      <td>5454.000</td>\n",
       "      <td>435.002</td>\n",
       "      <td>0.000</td>\n",
       "    </tr>\n",
       "    <tr>\n",
       "      <th>50%</th>\n",
       "      <td>17433.500</td>\n",
       "      <td>0.070</td>\n",
       "      <td>0.318</td>\n",
       "      <td>0.305</td>\n",
       "      <td>0.141</td>\n",
       "      <td>11590.500</td>\n",
       "      <td>962.439</td>\n",
       "      <td>1.000</td>\n",
       "    </tr>\n",
       "    <tr>\n",
       "      <th>75%</th>\n",
       "      <td>28729.250</td>\n",
       "      <td>0.170</td>\n",
       "      <td>0.429</td>\n",
       "      <td>0.479</td>\n",
       "      <td>0.283</td>\n",
       "      <td>25295.500</td>\n",
       "      <td>2204.083</td>\n",
       "      <td>1.000</td>\n",
       "    </tr>\n",
       "    <tr>\n",
       "      <th>max</th>\n",
       "      <td>583171.000</td>\n",
       "      <td>0.938</td>\n",
       "      <td>0.898</td>\n",
       "      <td>0.883</td>\n",
       "      <td>0.852</td>\n",
       "      <td>12176866.000</td>\n",
       "      <td>76589.687</td>\n",
       "      <td>1.000</td>\n",
       "    </tr>\n",
       "  </tbody>\n",
       "</table>\n",
       "</div>"
      ],
      "text/plain": [
       "       PIB_per_capita  VAB_Indústria/Total  VAB_Serviço/Total  VAB_Adm/Total  \\\n",
       "count        5570.000             5570.000           5570.000       5570.000   \n",
       "mean        23513.443                0.133              0.342          0.338   \n",
       "std         24238.467                0.140              0.134          0.175   \n",
       "min          4788.000                0.012              0.021          0.018   \n",
       "25%          9880.250                0.043              0.240          0.190   \n",
       "50%         17433.500                0.070              0.318          0.305   \n",
       "75%         28729.250                0.170              0.429          0.479   \n",
       "max        583171.000                0.938              0.898          0.883   \n",
       "\n",
       "       VAB_Agricultura/Total    População  Imposto_Prod_Percapita    Capag  \n",
       "count               5570.000     5570.000                5570.000 4418.000  \n",
       "mean                   0.187    37431.759                1951.098    0.504  \n",
       "std                    0.153   219969.003                3530.784    0.500  \n",
       "min                    0.000      786.000                  17.553    0.000  \n",
       "25%                    0.068     5454.000                 435.002    0.000  \n",
       "50%                    0.141    11590.500                 962.439    1.000  \n",
       "75%                    0.283    25295.500                2204.083    1.000  \n",
       "max                    0.852 12176866.000               76589.687    1.000  "
      ]
     },
     "execution_count": 296,
     "metadata": {},
     "output_type": "execute_result"
    }
   ],
   "source": [
    "df_streamlit.describe()"
   ]
  },
  {
   "cell_type": "code",
   "execution_count": 337,
   "metadata": {},
   "outputs": [],
   "source": [
    "df_streamlit.to_excel('df_streamlit.xlsx')"
   ]
  },
  {
   "cell_type": "markdown",
   "metadata": {},
   "source": [
    "# AED target"
   ]
  },
  {
   "cell_type": "markdown",
   "metadata": {},
   "source": [
    "# AED das variáveis quantitativas"
   ]
  },
  {
   "cell_type": "code",
   "execution_count": 298,
   "metadata": {},
   "outputs": [
    {
     "data": {
      "text/plain": [
       "Index(['VAB_Indústria/Total', 'VAB_Serviço/Total', 'VAB_Adm/Total',\n",
       "       'VAB_Agricultura/Total', 'Imposto_Prod_Percapita'],\n",
       "      dtype='object')"
      ]
     },
     "execution_count": 298,
     "metadata": {},
     "output_type": "execute_result"
    }
   ],
   "source": [
    "df.select_dtypes('float64').columns"
   ]
  },
  {
   "cell_type": "code",
   "execution_count": 299,
   "metadata": {},
   "outputs": [
    {
     "data": {
      "image/png": "[encoded data removed]",
      "text/plain": [
       "<Figure size 432x288 with 1 Axes>"
      ]
     },
     "metadata": {
      "needs_background": "light"
     },
     "output_type": "display_data"
    }
   ],
   "source": [
    "sns.boxplot(y = df['PIB_per_capita'])\n",
    "plt.savefig('boxplot_PIB_per_capita.jpg',bbox_inches='tight', dpi = 100)"
   ]
  },
  {
   "cell_type": "code",
   "execution_count": 300,
   "metadata": {},
   "outputs": [
    {
     "data": {
      "image/png": "[encoded data removed]",
      "text/plain": [
       "<Figure size 432x288 with 1 Axes>"
      ]
     },
     "metadata": {
      "needs_background": "light"
     },
     "output_type": "display_data"
    }
   ],
   "source": [
    "sns.boxplot(y = df['VAB_Indústria/Total'])\n",
    "plt.savefig('boxplot_VAB_Indústria_Total.jpg',bbox_inches='tight', dpi = 100)"
   ]
  },
  {
   "cell_type": "code",
   "execution_count": 301,
   "metadata": {},
   "outputs": [
    {
     "data": {
      "image/png": "[encoded data removed]",
      "text/plain": [
       "<Figure size 432x288 with 1 Axes>"
      ]
     },
     "metadata": {
      "needs_background": "light"
     },
     "output_type": "display_data"
    }
   ],
   "source": [
    "sns.boxplot(y = df['VAB_Serviço/Total'])\n",
    "plt.savefig('boxplot_VAB_Serviço_Total.jpg',bbox_inches='tight', dpi = 100)"
   ]
  },
  {
   "cell_type": "code",
   "execution_count": 302,
   "metadata": {},
   "outputs": [
    {
     "data": {
      "image/png": "[encoded data removed]",
      "text/plain": [
       "<Figure size 432x288 with 1 Axes>"
      ]
     },
     "metadata": {
      "needs_background": "light"
     },
     "output_type": "display_data"
    }
   ],
   "source": [
    "sns.boxplot(y = df['VAB_Adm/Total'])\n",
    "plt.savefig('boxplot_VAB_Adm_Total.jpg',bbox_inches='tight', dpi = 100)"
   ]
  },
  {
   "cell_type": "code",
   "execution_count": 304,
   "metadata": {},
   "outputs": [
    {
     "data": {
      "image/png": "[encoded data removed]",
      "text/plain": [
       "<Figure size 432x288 with 1 Axes>"
      ]
     },
     "metadata": {
      "needs_background": "light"
     },
     "output_type": "display_data"
    }
   ],
   "source": [
    "sns.boxplot(y = df['VAB_Agricultura/Total'])\n",
    "plt.savefig('boxplot_VAB_Agricultura_Total.jpg',bbox_inches='tight', dpi = 100)"
   ]
  },
  {
   "cell_type": "code",
   "execution_count": 306,
   "metadata": {},
   "outputs": [
    {
     "data": {
      "image/png": "[encoded data removed]",
      "text/plain": [
       "<Figure size 432x288 with 1 Axes>"
      ]
     },
     "metadata": {
      "needs_background": "light"
     },
     "output_type": "display_data"
    }
   ],
   "source": [
    "sns.boxplot(y = df['Imposto_Prod_Percapita'])\n",
    "plt.savefig('boxplot_Imposto_Prod_Percapita.jpg',bbox_inches='tight', dpi = 100)"
   ]
  },
  {
   "cell_type": "code",
   "execution_count": 307,
   "metadata": {},
   "outputs": [
    {
     "data": {
      "image/png": "[encoded data removed]",
      "text/plain": [
       "<Figure size 432x288 with 1 Axes>"
      ]
     },
     "metadata": {
      "needs_background": "light"
     },
     "output_type": "display_data"
    }
   ],
   "source": [
    "sns.boxplot(y = df['População'])\n",
    "plt.savefig('População.jpg',bbox_inches='tight', dpi = 100)"
   ]
  },
  {
   "cell_type": "markdown",
   "metadata": {},
   "source": [
    "## Tratamento das variáveis categóricas"
   ]
  },
  {
   "cell_type": "markdown",
   "metadata": {},
   "source": [
    "### Verificação dos valores únicos\n",
    "Constata-se que a variável 'Região Metropolitana' já está com o formato adequado, não necessitando tratamento.  \n",
    "Os valores da variável 'Região Rural' também iniciam com 'Região Rural'. Consequentemente, quando criarmos dummies o nome dessas  \n",
    "ficará poluído. Vamos retirar a expressão 'Região Rural' do inicio do nome dos valores desta variável."
   ]
  },
  {
   "cell_type": "code",
   "execution_count": 308,
   "metadata": {},
   "outputs": [
    {
     "data": {
      "text/plain": [
       "[('Região',\n",
       "  Nordeste        1794\n",
       "  Sudeste         1668\n",
       "  Sul             1191\n",
       "  Centro-oeste     467\n",
       "  Norte            450\n",
       "  Name: Região, dtype: int64),\n",
       " ('UF',\n",
       "  Minas Gerais           853\n",
       "  São Paulo              645\n",
       "  Rio Grande do Sul      497\n",
       "  Bahia                  417\n",
       "  Paraná                 399\n",
       "  Santa Catarina         295\n",
       "  Goiás                  246\n",
       "  Piauí                  224\n",
       "  Paraíba                223\n",
       "  Maranhão               217\n",
       "  Pernambuco             185\n",
       "  Ceará                  184\n",
       "  Rio Grande do Norte    167\n",
       "  Pará                   144\n",
       "  Mato Grosso            141\n",
       "  Tocantins              139\n",
       "  Alagoas                102\n",
       "  Rio de Janeiro          92\n",
       "  Mato Grosso do Sul      79\n",
       "  Espírito Santo          78\n",
       "  Sergipe                 75\n",
       "  Amazonas                62\n",
       "  Rondônia                52\n",
       "  Acre                    22\n",
       "  Amapá                   16\n",
       "  Roraima                 15\n",
       "  Distrito Federal         1\n",
       "  Name: UF, dtype: int64),\n",
       " ('Reg_Metropolitana',\n",
       "  0    4181\n",
       "  1    1389\n",
       "  Name: Reg_Metropolitana, dtype: int64),\n",
       " ('Mun_Reg_Geog_Imediata',\n",
       "  do Entorno    4985\n",
       "  Polo           585\n",
       "  Name: Mun_Reg_Geog_Imediata, dtype: int64),\n",
       " ('Mun_Reg_Geog_Intermediária',\n",
       "  do Entorno    5452\n",
       "  Polo           118\n",
       "  Name: Mun_Reg_Geog_Intermediária, dtype: int64),\n",
       " ('Tipo_Conc_Urbana',\n",
       "  Miss                          4910\n",
       "  Média concentração urbana      383\n",
       "  Grande concentração urbana     277\n",
       "  Name: Tipo_Conc_Urbana, dtype: int64),\n",
       " ('Hierarquia_Urbana',\n",
       "  Centro Local                        4479\n",
       "  Centro de Zona B                     364\n",
       "  Centro de Zona A                     191\n",
       "  Integrante de Metrópole              165\n",
       "  Centro Subregional A                  85\n",
       "  Centro Subregional B                  79\n",
       "  Integrante de Capital Regional A      49\n",
       "  Integrante de Capital Regional C      36\n",
       "  Capital Regional C                    28\n",
       "  Integrante de Capital Regional B      25\n",
       "  Núcleo de Capital Regional C          19\n",
       "  Núcleo de Capital Regional B          12\n",
       "  Núcleo de Metrópole                   12\n",
       "  Núcleo de Capital Regional A          11\n",
       "  Capital Regional B                     9\n",
       "  Integrante de Centro de Zona A         5\n",
       "  Núcleo de Centro de Zona A             1\n",
       "  Name: Hierarquia_Urbana, dtype: int64),\n",
       " ('Hier_Urbana_princ_categ',\n",
       "  Centro Local          4479\n",
       "  Centro de Zona         561\n",
       "  Capital Regional       189\n",
       "  Metrópole              177\n",
       "  Centro Subregional     164\n",
       "  Name: Hier_Urbana_princ_categ, dtype: int64),\n",
       " ('Região_rural',\n",
       "  Região Rural de Capital Regional             3240\n",
       "  Região Rural de Centro Sub-regional          1002\n",
       "  Região Rural de Metrópole                     814\n",
       "  Região Rural de Centro de zona                194\n",
       "  Região Rural de Grande Metrópole Nacional     181\n",
       "  Região Rural de Metrópole Nacional            139\n",
       "  Name: Região_rural, dtype: int64),\n",
       " ('Amazônia_Legal',\n",
       "  Não    4798\n",
       "  Sim     772\n",
       "  Name: Amazônia_Legal, dtype: int64),\n",
       " ('Semiárido',\n",
       "  Não    4308\n",
       "  Sim    1262\n",
       "  Name: Semiárido, dtype: int64),\n",
       " ('Cid_Região_São_Paulo',\n",
       "  Não    5478\n",
       "  Sim      92\n",
       "  Name: Cid_Região_São_Paulo, dtype: int64)]"
      ]
     },
     "execution_count": 308,
     "metadata": {},
     "output_type": "execute_result"
    }
   ],
   "source": [
    "[(df[col].name, df[col].value_counts()) for col in df.select_dtypes(object).columns]"
   ]
  },
  {
   "cell_type": "markdown",
   "metadata": {},
   "source": [
    "### Tratamento da variável 'Região_rural'"
   ]
  },
  {
   "cell_type": "code",
   "execution_count": 309,
   "metadata": {},
   "outputs": [
    {
     "data": {
      "text/plain": [
       "Região Rural de Capital Regional             3240\n",
       "Região Rural de Centro Sub-regional          1002\n",
       "Região Rural de Metrópole                     814\n",
       "Região Rural de Centro de zona                194\n",
       "Região Rural de Grande Metrópole Nacional     181\n",
       "Região Rural de Metrópole Nacional            139\n",
       "Name: Região_rural, dtype: int64"
      ]
     },
     "execution_count": 309,
     "metadata": {},
     "output_type": "execute_result"
    }
   ],
   "source": [
    "df['Região_rural'].value_counts()"
   ]
  },
  {
   "cell_type": "code",
   "execution_count": 310,
   "metadata": {},
   "outputs": [
    {
     "data": {
      "text/plain": [
       "Capital Regional             3240\n",
       "Centro Sub-regional          1002\n",
       "Metrópole                     814\n",
       "Centro de zona                194\n",
       "Grande Metrópole Nacional     181\n",
       "Metrópole Nacional            139\n",
       "Name: Região_rural, dtype: int64"
      ]
     },
     "execution_count": 310,
     "metadata": {},
     "output_type": "execute_result"
    }
   ],
   "source": [
    "df['Região_rural'] = df['Região_rural'].str.replace('Região Rural de ', '')\n",
    "df['Região_rural'].value_counts()"
   ]
  },
  {
   "cell_type": "markdown",
   "metadata": {},
   "source": [
    "### Transformação das categóricas em dummies"
   ]
  },
  {
   "cell_type": "markdown",
   "metadata": {},
   "source": [
    "#### Identificação das variáveis a serem convertidas em dummies"
   ]
  },
  {
   "cell_type": "code",
   "execution_count": 311,
   "metadata": {},
   "outputs": [
    {
     "data": {
      "text/plain": [
       "Index(['Região', 'UF', 'Reg_Metropolitana', 'Mun_Reg_Geog_Imediata',\n",
       "       'Mun_Reg_Geog_Intermediária', 'Tipo_Conc_Urbana', 'Hierarquia_Urbana',\n",
       "       'Hier_Urbana_princ_categ', 'Região_rural', 'Amazônia_Legal',\n",
       "       'Semiárido', 'Cid_Região_São_Paulo'],\n",
       "      dtype='object')"
      ]
     },
     "execution_count": 311,
     "metadata": {},
     "output_type": "execute_result"
    }
   ],
   "source": [
    "df.select_dtypes('object').columns"
   ]
  },
  {
   "cell_type": "code",
   "execution_count": 312,
   "metadata": {},
   "outputs": [],
   "source": [
    "# Conversão das categóricas em dummies\n",
    "df = pd.get_dummies(data = df, columns = ['Região', 'UF', 'Reg_Metropolitana', 'Mun_Reg_Geog_Imediata',\n",
    "       'Mun_Reg_Geog_Intermediária', 'Tipo_Conc_Urbana', 'Hierarquia_Urbana',\n",
    "       'Hier_Urbana_princ_categ', 'Região_rural', 'Amazônia_Legal',\n",
    "       'Semiárido', 'Cid_Região_São_Paulo'],                \n",
    "                    drop_first=True)"
   ]
  },
  {
   "cell_type": "code",
   "execution_count": 313,
   "metadata": {},
   "outputs": [
    {
     "data": {
      "text/plain": [
       "Index(['PIB_per_capita', 'População', 'Capag', 'VAB_Indústria/Total',\n",
       "       'VAB_Serviço/Total', 'VAB_Adm/Total', 'VAB_Agricultura/Total',\n",
       "       'Imposto_Prod_Percapita', 'Região_Nordeste', 'Região_Norte',\n",
       "       'Região_Sudeste', 'Região_Sul', 'UF_Alagoas', 'UF_Amapá', 'UF_Amazonas',\n",
       "       'UF_Bahia', 'UF_Ceará', 'UF_Distrito Federal', 'UF_Espírito Santo',\n",
       "       'UF_Goiás', 'UF_Maranhão', 'UF_Mato Grosso', 'UF_Mato Grosso do Sul',\n",
       "       'UF_Minas Gerais', 'UF_Paraná', 'UF_Paraíba', 'UF_Pará',\n",
       "       'UF_Pernambuco', 'UF_Piauí', 'UF_Rio Grande do Norte',\n",
       "       'UF_Rio Grande do Sul', 'UF_Rio de Janeiro', 'UF_Rondônia',\n",
       "       'UF_Roraima', 'UF_Santa Catarina', 'UF_Sergipe', 'UF_São Paulo',\n",
       "       'UF_Tocantins', 'Reg_Metropolitana_1',\n",
       "       'Mun_Reg_Geog_Imediata_do Entorno',\n",
       "       'Mun_Reg_Geog_Intermediária_do Entorno', 'Tipo_Conc_Urbana_Miss',\n",
       "       'Tipo_Conc_Urbana_Média concentração urbana',\n",
       "       'Hierarquia_Urbana_Capital Regional C',\n",
       "       'Hierarquia_Urbana_Centro Local',\n",
       "       'Hierarquia_Urbana_Centro Subregional A',\n",
       "       'Hierarquia_Urbana_Centro Subregional B',\n",
       "       'Hierarquia_Urbana_Centro de Zona A',\n",
       "       'Hierarquia_Urbana_Centro de Zona B',\n",
       "       'Hierarquia_Urbana_Integrante de Capital Regional A',\n",
       "       'Hierarquia_Urbana_Integrante de Capital Regional B',\n",
       "       'Hierarquia_Urbana_Integrante de Capital Regional C',\n",
       "       'Hierarquia_Urbana_Integrante de Centro de Zona A',\n",
       "       'Hierarquia_Urbana_Integrante de Metrópole',\n",
       "       'Hierarquia_Urbana_Núcleo de Capital Regional A',\n",
       "       'Hierarquia_Urbana_Núcleo de Capital Regional B',\n",
       "       'Hierarquia_Urbana_Núcleo de Capital Regional C',\n",
       "       'Hierarquia_Urbana_Núcleo de Centro de Zona A',\n",
       "       'Hierarquia_Urbana_Núcleo de Metrópole',\n",
       "       'Hier_Urbana_princ_categ_Centro Local',\n",
       "       'Hier_Urbana_princ_categ_Centro Subregional',\n",
       "       'Hier_Urbana_princ_categ_Centro de Zona',\n",
       "       'Hier_Urbana_princ_categ_Metrópole', 'Região_rural_Centro Sub-regional',\n",
       "       'Região_rural_Centro de zona', 'Região_rural_Grande Metrópole Nacional',\n",
       "       'Região_rural_Metrópole', 'Região_rural_Metrópole Nacional',\n",
       "       'Amazônia_Legal_Sim', 'Semiárido_Sim', 'Cid_Região_São_Paulo_Sim'],\n",
       "      dtype='object')"
      ]
     },
     "execution_count": 313,
     "metadata": {},
     "output_type": "execute_result"
    }
   ],
   "source": [
    "df.columns"
   ]
  },
  {
   "cell_type": "code",
   "execution_count": 314,
   "metadata": {},
   "outputs": [
    {
     "name": "stdout",
     "output_type": "stream",
     "text": [
      "<class 'pandas.core.frame.DataFrame'>\n",
      "Index: 5570 entries, Alta Floresta D'Oeste to Brasília\n",
      "Data columns (total 71 columns):\n",
      " #   Column                                              Non-Null Count  Dtype  \n",
      "---  ------                                              --------------  -----  \n",
      " 0   PIB_per_capita                                      5570 non-null   int32  \n",
      " 1   População                                           5570 non-null   int64  \n",
      " 2   Capag                                               4418 non-null   Int64  \n",
      " 3   VAB_Indústria/Total                                 5570 non-null   float64\n",
      " 4   VAB_Serviço/Total                                   5570 non-null   float64\n",
      " 5   VAB_Adm/Total                                       5570 non-null   float64\n",
      " 6   VAB_Agricultura/Total                               5570 non-null   float64\n",
      " 7   Imposto_Prod_Percapita                              5570 non-null   float64\n",
      " 8   Região_Nordeste                                     5570 non-null   uint8  \n",
      " 9   Região_Norte                                        5570 non-null   uint8  \n",
      " 10  Região_Sudeste                                      5570 non-null   uint8  \n",
      " 11  Região_Sul                                          5570 non-null   uint8  \n",
      " 12  UF_Alagoas                                          5570 non-null   uint8  \n",
      " 13  UF_Amapá                                            5570 non-null   uint8  \n",
      " 14  UF_Amazonas                                         5570 non-null   uint8  \n",
      " 15  UF_Bahia                                            5570 non-null   uint8  \n",
      " 16  UF_Ceará                                            5570 non-null   uint8  \n",
      " 17  UF_Distrito Federal                                 5570 non-null   uint8  \n",
      " 18  UF_Espírito Santo                                   5570 non-null   uint8  \n",
      " 19  UF_Goiás                                            5570 non-null   uint8  \n",
      " 20  UF_Maranhão                                         5570 non-null   uint8  \n",
      " 21  UF_Mato Grosso                                      5570 non-null   uint8  \n",
      " 22  UF_Mato Grosso do Sul                               5570 non-null   uint8  \n",
      " 23  UF_Minas Gerais                                     5570 non-null   uint8  \n",
      " 24  UF_Paraná                                           5570 non-null   uint8  \n",
      " 25  UF_Paraíba                                          5570 non-null   uint8  \n",
      " 26  UF_Pará                                             5570 non-null   uint8  \n",
      " 27  UF_Pernambuco                                       5570 non-null   uint8  \n",
      " 28  UF_Piauí                                            5570 non-null   uint8  \n",
      " 29  UF_Rio Grande do Norte                              5570 non-null   uint8  \n",
      " 30  UF_Rio Grande do Sul                                5570 non-null   uint8  \n",
      " 31  UF_Rio de Janeiro                                   5570 non-null   uint8  \n",
      " 32  UF_Rondônia                                         5570 non-null   uint8  \n",
      " 33  UF_Roraima                                          5570 non-null   uint8  \n",
      " 34  UF_Santa Catarina                                   5570 non-null   uint8  \n",
      " 35  UF_Sergipe                                          5570 non-null   uint8  \n",
      " 36  UF_São Paulo                                        5570 non-null   uint8  \n",
      " 37  UF_Tocantins                                        5570 non-null   uint8  \n",
      " 38  Reg_Metropolitana_1                                 5570 non-null   uint8  \n",
      " 39  Mun_Reg_Geog_Imediata_do Entorno                    5570 non-null   uint8  \n",
      " 40  Mun_Reg_Geog_Intermediária_do Entorno               5570 non-null   uint8  \n",
      " 41  Tipo_Conc_Urbana_Miss                               5570 non-null   uint8  \n",
      " 42  Tipo_Conc_Urbana_Média concentração urbana          5570 non-null   uint8  \n",
      " 43  Hierarquia_Urbana_Capital Regional C                5570 non-null   uint8  \n",
      " 44  Hierarquia_Urbana_Centro Local                      5570 non-null   uint8  \n",
      " 45  Hierarquia_Urbana_Centro Subregional A              5570 non-null   uint8  \n",
      " 46  Hierarquia_Urbana_Centro Subregional B              5570 non-null   uint8  \n",
      " 47  Hierarquia_Urbana_Centro de Zona A                  5570 non-null   uint8  \n",
      " 48  Hierarquia_Urbana_Centro de Zona B                  5570 non-null   uint8  \n",
      " 49  Hierarquia_Urbana_Integrante de Capital Regional A  5570 non-null   uint8  \n",
      " 50  Hierarquia_Urbana_Integrante de Capital Regional B  5570 non-null   uint8  \n",
      " 51  Hierarquia_Urbana_Integrante de Capital Regional C  5570 non-null   uint8  \n",
      " 52  Hierarquia_Urbana_Integrante de Centro de Zona A    5570 non-null   uint8  \n",
      " 53  Hierarquia_Urbana_Integrante de Metrópole           5570 non-null   uint8  \n",
      " 54  Hierarquia_Urbana_Núcleo de Capital Regional A      5570 non-null   uint8  \n",
      " 55  Hierarquia_Urbana_Núcleo de Capital Regional B      5570 non-null   uint8  \n",
      " 56  Hierarquia_Urbana_Núcleo de Capital Regional C      5570 non-null   uint8  \n",
      " 57  Hierarquia_Urbana_Núcleo de Centro de Zona A        5570 non-null   uint8  \n",
      " 58  Hierarquia_Urbana_Núcleo de Metrópole               5570 non-null   uint8  \n",
      " 59  Hier_Urbana_princ_categ_Centro Local                5570 non-null   uint8  \n",
      " 60  Hier_Urbana_princ_categ_Centro Subregional          5570 non-null   uint8  \n",
      " 61  Hier_Urbana_princ_categ_Centro de Zona              5570 non-null   uint8  \n",
      " 62  Hier_Urbana_princ_categ_Metrópole                   5570 non-null   uint8  \n",
      " 63  Região_rural_Centro Sub-regional                    5570 non-null   uint8  \n",
      " 64  Região_rural_Centro de zona                         5570 non-null   uint8  \n",
      " 65  Região_rural_Grande Metrópole Nacional              5570 non-null   uint8  \n",
      " 66  Região_rural_Metrópole                              5570 non-null   uint8  \n",
      " 67  Região_rural_Metrópole Nacional                     5570 non-null   uint8  \n",
      " 68  Amazônia_Legal_Sim                                  5570 non-null   uint8  \n",
      " 69  Semiárido_Sim                                       5570 non-null   uint8  \n",
      " 70  Cid_Região_São_Paulo_Sim                            5570 non-null   uint8  \n",
      "dtypes: Int64(1), float64(5), int32(1), int64(1), uint8(63)\n",
      "memory usage: 718.0+ KB\n"
     ]
    }
   ],
   "source": [
    "df.info()"
   ]
  },
  {
   "cell_type": "markdown",
   "metadata": {},
   "source": [
    "## Preparação final do dataset para os modelos de ML"
   ]
  },
  {
   "cell_type": "markdown",
   "metadata": {},
   "source": [
    "### Verificação de valores faltantes\n",
    "Verifica-se que só há valores faltantes na varivel target"
   ]
  },
  {
   "cell_type": "code",
   "execution_count": 315,
   "metadata": {},
   "outputs": [
    {
     "data": {
      "text/html": [
       "<div>\n",
       "<style scoped>\n",
       "    .dataframe tbody tr th:only-of-type {\n",
       "        vertical-align: middle;\n",
       "    }\n",
       "\n",
       "    .dataframe tbody tr th {\n",
       "        vertical-align: top;\n",
       "    }\n",
       "\n",
       "    .dataframe thead th {\n",
       "        text-align: right;\n",
       "    }\n",
       "</style>\n",
       "<table border=\"1\" class=\"dataframe\">\n",
       "  <thead>\n",
       "    <tr style=\"text-align: right;\">\n",
       "      <th></th>\n",
       "      <th>Missing</th>\n",
       "    </tr>\n",
       "  </thead>\n",
       "  <tbody>\n",
       "    <tr>\n",
       "      <th>Capag</th>\n",
       "      <td>1152</td>\n",
       "    </tr>\n",
       "  </tbody>\n",
       "</table>\n",
       "</div>"
      ],
      "text/plain": [
       "       Missing\n",
       "Capag     1152"
      ]
     },
     "execution_count": 315,
     "metadata": {},
     "output_type": "execute_result"
    }
   ],
   "source": [
    "df_missing = pd.DataFrame(df.isna().sum(), columns = ['Missing'])\n",
    "df_missing[df_missing['Missing']>0]"
   ]
  },
  {
   "cell_type": "code",
   "execution_count": 316,
   "metadata": {},
   "outputs": [
    {
     "data": {
      "text/plain": [
       "1      2228\n",
       "0      2190\n",
       "NaN    1152\n",
       "Name: Capag, dtype: Int64"
      ]
     },
     "execution_count": 316,
     "metadata": {},
     "output_type": "execute_result"
    }
   ],
   "source": [
    "df['Capag'].value_counts(dropna=False)"
   ]
  },
  {
   "cell_type": "code",
   "execution_count": 317,
   "metadata": {},
   "outputs": [
    {
     "data": {
      "text/plain": [
       "(5570, 71)"
      ]
     },
     "execution_count": 317,
     "metadata": {},
     "output_type": "execute_result"
    }
   ],
   "source": [
    "df_completo = df.copy()\n",
    "df_completo.shape"
   ]
  },
  {
   "cell_type": "code",
   "execution_count": 318,
   "metadata": {},
   "outputs": [
    {
     "data": {
      "text/plain": [
       "PIB_per_capita                                           0\n",
       "População                                                0\n",
       "Capag                                                 1152\n",
       "VAB_Indústria/Total                                      0\n",
       "VAB_Serviço/Total                                        0\n",
       "VAB_Adm/Total                                            0\n",
       "VAB_Agricultura/Total                                    0\n",
       "Imposto_Prod_Percapita                                   0\n",
       "Região_Nordeste                                          0\n",
       "Região_Norte                                             0\n",
       "Região_Sudeste                                           0\n",
       "Região_Sul                                               0\n",
       "UF_Alagoas                                               0\n",
       "UF_Amapá                                                 0\n",
       "UF_Amazonas                                              0\n",
       "UF_Bahia                                                 0\n",
       "UF_Ceará                                                 0\n",
       "UF_Distrito Federal                                      0\n",
       "UF_Espírito Santo                                        0\n",
       "UF_Goiás                                                 0\n",
       "UF_Maranhão                                              0\n",
       "UF_Mato Grosso                                           0\n",
       "UF_Mato Grosso do Sul                                    0\n",
       "UF_Minas Gerais                                          0\n",
       "UF_Paraná                                                0\n",
       "UF_Paraíba                                               0\n",
       "UF_Pará                                                  0\n",
       "UF_Pernambuco                                            0\n",
       "UF_Piauí                                                 0\n",
       "UF_Rio Grande do Norte                                   0\n",
       "UF_Rio Grande do Sul                                     0\n",
       "UF_Rio de Janeiro                                        0\n",
       "UF_Rondônia                                              0\n",
       "UF_Roraima                                               0\n",
       "UF_Santa Catarina                                        0\n",
       "UF_Sergipe                                               0\n",
       "UF_São Paulo                                             0\n",
       "UF_Tocantins                                             0\n",
       "Reg_Metropolitana_1                                      0\n",
       "Mun_Reg_Geog_Imediata_do Entorno                         0\n",
       "Mun_Reg_Geog_Intermediária_do Entorno                    0\n",
       "Tipo_Conc_Urbana_Miss                                    0\n",
       "Tipo_Conc_Urbana_Média concentração urbana               0\n",
       "Hierarquia_Urbana_Capital Regional C                     0\n",
       "Hierarquia_Urbana_Centro Local                           0\n",
       "Hierarquia_Urbana_Centro Subregional A                   0\n",
       "Hierarquia_Urbana_Centro Subregional B                   0\n",
       "Hierarquia_Urbana_Centro de Zona A                       0\n",
       "Hierarquia_Urbana_Centro de Zona B                       0\n",
       "Hierarquia_Urbana_Integrante de Capital Regional A       0\n",
       "Hierarquia_Urbana_Integrante de Capital Regional B       0\n",
       "Hierarquia_Urbana_Integrante de Capital Regional C       0\n",
       "Hierarquia_Urbana_Integrante de Centro de Zona A         0\n",
       "Hierarquia_Urbana_Integrante de Metrópole                0\n",
       "Hierarquia_Urbana_Núcleo de Capital Regional A           0\n",
       "Hierarquia_Urbana_Núcleo de Capital Regional B           0\n",
       "Hierarquia_Urbana_Núcleo de Capital Regional C           0\n",
       "Hierarquia_Urbana_Núcleo de Centro de Zona A             0\n",
       "Hierarquia_Urbana_Núcleo de Metrópole                    0\n",
       "Hier_Urbana_princ_categ_Centro Local                     0\n",
       "Hier_Urbana_princ_categ_Centro Subregional               0\n",
       "Hier_Urbana_princ_categ_Centro de Zona                   0\n",
       "Hier_Urbana_princ_categ_Metrópole                        0\n",
       "Região_rural_Centro Sub-regional                         0\n",
       "Região_rural_Centro de zona                              0\n",
       "Região_rural_Grande Metrópole Nacional                   0\n",
       "Região_rural_Metrópole                                   0\n",
       "Região_rural_Metrópole Nacional                          0\n",
       "Amazônia_Legal_Sim                                       0\n",
       "Semiárido_Sim                                            0\n",
       "Cid_Região_São_Paulo_Sim                                 0\n",
       "dtype: int64"
      ]
     },
     "execution_count": 318,
     "metadata": {},
     "output_type": "execute_result"
    }
   ],
   "source": [
    "df.isna().sum()"
   ]
  },
  {
   "cell_type": "code",
   "execution_count": 319,
   "metadata": {},
   "outputs": [
    {
     "data": {
      "text/plain": [
       "(4418, 71)"
      ]
     },
     "execution_count": 319,
     "metadata": {},
     "output_type": "execute_result"
    }
   ],
   "source": [
    "df_sem_na = df.dropna(axis = 0)\n",
    "df_sem_target_na = df_sem_na\n",
    "df_sem_na.shape"
   ]
  },
  {
   "cell_type": "code",
   "execution_count": 320,
   "metadata": {},
   "outputs": [
    {
     "data": {
      "image/png": "[encoded data removed]",
      "text/plain": [
       "<Figure size 432x288 with 1 Axes>"
      ]
     },
     "metadata": {
      "needs_background": "light"
     },
     "output_type": "display_data"
    }
   ],
   "source": [
    "sns.countplot(x = df_sem_target_na[\"Capag\"]).set_ylabel('Quantidade')\n",
    "plt.savefig('graf_barros_capag.jpg',bbox_inches='tight', dpi = 100)"
   ]
  },
  {
   "cell_type": "code",
   "execution_count": 321,
   "metadata": {},
   "outputs": [
    {
     "data": {
      "text/plain": [
       "1    2228\n",
       "0    2190\n",
       "Name: Capag, dtype: Int64"
      ]
     },
     "execution_count": 321,
     "metadata": {},
     "output_type": "execute_result"
    }
   ],
   "source": [
    "df_sem_target_na[\"Capag\"].value_counts()"
   ]
  },
  {
   "cell_type": "code",
   "execution_count": 322,
   "metadata": {},
   "outputs": [
    {
     "data": {
      "text/plain": [
       "1      2228\n",
       "0      2190\n",
       "NaN    1152\n",
       "Name: Capag, dtype: Int64"
      ]
     },
     "execution_count": 322,
     "metadata": {},
     "output_type": "execute_result"
    }
   ],
   "source": [
    "df['Capag'].value_counts(dropna=False)"
   ]
  },
  {
   "cell_type": "code",
   "execution_count": 323,
   "metadata": {},
   "outputs": [
    {
     "data": {
      "text/html": [
       "<div>\n",
       "<style scoped>\n",
       "    .dataframe tbody tr th:only-of-type {\n",
       "        vertical-align: middle;\n",
       "    }\n",
       "\n",
       "    .dataframe tbody tr th {\n",
       "        vertical-align: top;\n",
       "    }\n",
       "\n",
       "    .dataframe thead th {\n",
       "        text-align: right;\n",
       "    }\n",
       "</style>\n",
       "<table border=\"1\" class=\"dataframe\">\n",
       "  <thead>\n",
       "    <tr style=\"text-align: right;\">\n",
       "      <th></th>\n",
       "      <th>Missing</th>\n",
       "    </tr>\n",
       "  </thead>\n",
       "  <tbody>\n",
       "    <tr>\n",
       "      <th>Capag</th>\n",
       "      <td>1152</td>\n",
       "    </tr>\n",
       "  </tbody>\n",
       "</table>\n",
       "</div>"
      ],
      "text/plain": [
       "       Missing\n",
       "Capag     1152"
      ]
     },
     "execution_count": 323,
     "metadata": {},
     "output_type": "execute_result"
    }
   ],
   "source": [
    "df1_missing = pd.DataFrame(df.isna().sum(), columns = ['Missing'])\n",
    "df1_missing[df1_missing['Missing']>0]"
   ]
  },
  {
   "cell_type": "markdown",
   "metadata": {},
   "source": [
    "# AED bivariada"
   ]
  },
  {
   "cell_type": "code",
   "execution_count": 324,
   "metadata": {},
   "outputs": [
    {
     "data": {
      "text/plain": [
       "1      2228\n",
       "0      2190\n",
       "NaN       0\n",
       "Name: Capag, dtype: Int64"
      ]
     },
     "execution_count": 324,
     "metadata": {},
     "output_type": "execute_result"
    }
   ],
   "source": [
    "df_sem_target_na['Capag'].value_counts(dropna = False)"
   ]
  },
  {
   "cell_type": "code",
   "execution_count": 325,
   "metadata": {},
   "outputs": [
    {
     "data": {
      "image/png": "[encoded data removed]",
      "text/plain": [
       "<Figure size 432x288 with 1 Axes>"
      ]
     },
     "metadata": {
      "needs_background": "light"
     },
     "output_type": "display_data"
    }
   ],
   "source": [
    "sns.boxplot(x = df_sem_target_na['Capag'], y = df_sem_target_na['PIB_per_capita'])\n",
    "plt.savefig('boxplot_Capag_X_PIB__per_capita.jpg',bbox_inches='tight', dpi = 100)"
   ]
  },
  {
   "cell_type": "code",
   "execution_count": 326,
   "metadata": {},
   "outputs": [
    {
     "data": {
      "image/png": "[encoded data removed]",
      "text/plain": [
       "<Figure size 432x288 with 1 Axes>"
      ]
     },
     "metadata": {
      "needs_background": "light"
     },
     "output_type": "display_data"
    }
   ],
   "source": [
    "sns.boxplot(x = df_sem_target_na['Capag'], y = df_sem_target_na['VAB_Agricultura/Total'])\n",
    "plt.savefig('boxplot_Capag_X_VAB_Agricultura_Total.jpg',bbox_inches='tight', dpi = 100)"
   ]
  },
  {
   "cell_type": "code",
   "execution_count": 327,
   "metadata": {},
   "outputs": [
    {
     "data": {
      "image/png": "[encoded data removed]",
      "text/plain": [
       "<Figure size 432x288 with 1 Axes>"
      ]
     },
     "metadata": {
      "needs_background": "light"
     },
     "output_type": "display_data"
    }
   ],
   "source": [
    "sns.boxplot(x = df_sem_target_na['Capag'], y = df_sem_target_na['VAB_Indústria/Total'])\n",
    "plt.savefig('boxplot_Capag_X_VAB_Indústria_Total.jpg',bbox_inches='tight', dpi = 100)"
   ]
  },
  {
   "cell_type": "code",
   "execution_count": 328,
   "metadata": {},
   "outputs": [
    {
     "data": {
      "image/png": "[encoded data removed]",
      "text/plain": [
       "<Figure size 432x288 with 1 Axes>"
      ]
     },
     "metadata": {
      "needs_background": "light"
     },
     "output_type": "display_data"
    }
   ],
   "source": [
    "sns.boxplot(x = df_sem_target_na['Capag'], y = df_sem_target_na['VAB_Serviço/Total'])\n",
    "plt.savefig('boxplot_Capag_X_VAB_Serviço_Total.jpg',bbox_inches='tight', dpi = 100)"
   ]
  },
  {
   "cell_type": "code",
   "execution_count": 332,
   "metadata": {},
   "outputs": [
    {
     "data": {
      "image/png": "[encoded data removed]",
      "text/plain": [
       "<Figure size 432x288 with 1 Axes>"
      ]
     },
     "metadata": {
      "needs_background": "light"
     },
     "output_type": "display_data"
    }
   ],
   "source": [
    "sns.boxplot(x = df_sem_target_na['Capag'], y = df_sem_target_na['VAB_Adm/Total'])\n",
    "plt.savefig('boxplot_Capag_X_VAB_Adm_Total.jpg',bbox_inches='tight', dpi = 100)"
   ]
  },
  {
   "cell_type": "code",
   "execution_count": 333,
   "metadata": {},
   "outputs": [
    {
     "data": {
      "image/png": "[encoded data removed]",
      "text/plain": [
       "<Figure size 432x288 with 1 Axes>"
      ]
     },
     "metadata": {
      "needs_background": "light"
     },
     "output_type": "display_data"
    }
   ],
   "source": [
    "sns.boxplot(x = df_sem_target_na['Capag'], y = df_sem_target_na['População'])\n",
    "plt.savefig('boxplot_Capag_X_População.jpg',bbox_inches='tight', dpi = 100)"
   ]
  },
  {
   "cell_type": "code",
   "execution_count": 334,
   "metadata": {},
   "outputs": [
    {
     "data": {
      "image/png": "[encoded data removed]",
      "text/plain": [
       "<Figure size 432x288 with 1 Axes>"
      ]
     },
     "metadata": {
      "needs_background": "light"
     },
     "output_type": "display_data"
    }
   ],
   "source": [
    "sns.boxplot(x = df_sem_target_na['Capag'], y = df_sem_target_na['Imposto_Prod_Percapita'])\n",
    "plt.savefig('boxplot_Capag_X_Imposto_Prod_Percapita.jpg',bbox_inches='tight', dpi = 100)"
   ]
  },
  {
   "cell_type": "code",
   "execution_count": 335,
   "metadata": {},
   "outputs": [],
   "source": [
    "# No arquivo abaixo, foram excluídas linhas em que o valor da target era nulo, por não ter sido calculado pela STN por falta de documentos.\n",
    "df_sem_target_na.to_excel('df_sem_target_nan.xlsx', index = False)"
   ]
  },
  {
   "cell_type": "code",
   "execution_count": 336,
   "metadata": {},
   "outputs": [],
   "source": [
    "# Abaixo está o arquivo com todas as linhas, inclusive aquelas em que não havia valor de Capag calculado.\n",
    "df_completo.to_excel('df_completo.xlsx', index = False)"
   ]
  },
  {
   "cell_type": "code",
   "execution_count": null,
   "metadata": {},
   "outputs": [],
   "source": []
  }
 ],
 "metadata": {
  "kernelspec": {
   "display_name": "Python 3 (ipykernel)",
   "language": "python",
   "name": "python3"
  },
  "language_info": {
   "codemirror_mode": {
    "name": "ipython",
    "version": 3
   },
   "file_extension": ".py",
   "mimetype": "text/x-python",
   "name": "python",
   "nbconvert_exporter": "python",
   "pygments_lexer": "ipython3",
   "version": "3.7.3"
  }
 },
 "nbformat": 4,
 "nbformat_minor": 5
}
