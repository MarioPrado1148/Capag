{
 "cells": [
  {
   "cell_type": "markdown",
   "metadata": {},
   "source": [
    "# Classificação da capacidade de pagamento dos municípios brasileiros com base em dados geoeconômicos\n",
    "# Notebook 03 - XGBClassifier\n",
    "Autores: Camila, Mario, Cruz"
   ]
  },
  {
   "cell_type": "markdown",
   "metadata": {},
   "source": [
    "## Importação de bibliotecas e configurações iniciais"
   ]
  },
  {
   "cell_type": "code",
   "execution_count": 218,
   "metadata": {},
   "outputs": [],
   "source": [
    "import pandas as pd\n",
    "import numpy as np\n",
    "import matplotlib.pyplot as plt\n",
    "\n",
    "from sklearn.pipeline import Pipeline\n",
    "\n",
    "from sklearn.model_selection import train_test_split \n",
    "from sklearn.model_selection import cross_val_score\n",
    "from sklearn.model_selection import KFold\n",
    "from sklearn.model_selection import GridSearchCV\n",
    "from sklearn.model_selection import RandomizedSearchCV\n",
    "\n",
    "from sklearn.compose import ColumnTransformer\n",
    "from sklearn.decomposition import PCA\n",
    "from sklearn.preprocessing import OneHotEncoder\n",
    "from sklearn.preprocessing import OrdinalEncoder\n",
    "from sklearn.preprocessing import MinMaxScaler\n",
    "from sklearn.preprocessing import StandardScaler\n",
    "from sklearn.preprocessing import RobustScaler\n",
    "from sklearn.preprocessing import KBinsDiscretizer\n",
    "from sklearn.preprocessing import PolynomialFeatures\n",
    "from sklearn.preprocessing import PowerTransformer\n",
    "\n",
    "from sklearn.feature_selection import SelectKBest\n",
    "from sklearn.feature_selection import chi2\n",
    "from sklearn.feature_selection import mutual_info_classif\n",
    "from sklearn.feature_selection import SelectFromModel\n",
    "\n",
    "from imblearn.over_sampling import SMOTE\n",
    "from imblearn.pipeline import Pipeline\n",
    "\n",
    "from sklearn.linear_model import LogisticRegression\n",
    "from sklearn.svm import SVC\n",
    "from sklearn.ensemble import GradientBoostingClassifier\n",
    "from sklearn.ensemble import RandomForestClassifier\n",
    "from xgboost import XGBClassifier\n",
    "\n",
    "\n",
    "from sklearn import metrics\n",
    "from sklearn.metrics import accuracy_score, classification_report, confusion_matrix"
   ]
  },
  {
   "cell_type": "code",
   "execution_count": 219,
   "metadata": {},
   "outputs": [
    {
     "data": {
      "text/html": [
       "<div>\n",
       "<style scoped>\n",
       "    .dataframe tbody tr th:only-of-type {\n",
       "        vertical-align: middle;\n",
       "    }\n",
       "\n",
       "    .dataframe tbody tr th {\n",
       "        vertical-align: top;\n",
       "    }\n",
       "\n",
       "    .dataframe thead th {\n",
       "        text-align: right;\n",
       "    }\n",
       "</style>\n",
       "<table border=\"1\" class=\"dataframe\">\n",
       "  <thead>\n",
       "    <tr style=\"text-align: right;\">\n",
       "      <th></th>\n",
       "      <th>PIB_per_capita</th>\n",
       "      <th>População</th>\n",
       "      <th>Capag</th>\n",
       "      <th>VAB_Indústria/Total</th>\n",
       "      <th>VAB_Serviço/Total</th>\n",
       "      <th>VAB_Adm/Total</th>\n",
       "      <th>VAB_Agricultura/Total</th>\n",
       "      <th>Imposto_Prod_Percapita</th>\n",
       "      <th>Região_Nordeste</th>\n",
       "      <th>Região_Norte</th>\n",
       "      <th>...</th>\n",
       "      <th>Hier_Urbana_princ_categ_Centro de Zona</th>\n",
       "      <th>Hier_Urbana_princ_categ_Metrópole</th>\n",
       "      <th>Região_rural_Centro Sub-regional</th>\n",
       "      <th>Região_rural_Centro de zona</th>\n",
       "      <th>Região_rural_Grande Metrópole Nacional</th>\n",
       "      <th>Região_rural_Metrópole</th>\n",
       "      <th>Região_rural_Metrópole Nacional</th>\n",
       "      <th>Amazônia_Legal_Sim</th>\n",
       "      <th>Semiárido_Sim</th>\n",
       "      <th>Cid_Região_São_Paulo_Sim</th>\n",
       "    </tr>\n",
       "  </thead>\n",
       "  <tbody>\n",
       "    <tr>\n",
       "      <th>0</th>\n",
       "      <td>23206</td>\n",
       "      <td>106168</td>\n",
       "      <td>0</td>\n",
       "      <td>0.15</td>\n",
       "      <td>0.47</td>\n",
       "      <td>0.31</td>\n",
       "      <td>0.07</td>\n",
       "      <td>2,376.05</td>\n",
       "      <td>0</td>\n",
       "      <td>1</td>\n",
       "      <td>...</td>\n",
       "      <td>0</td>\n",
       "      <td>0</td>\n",
       "      <td>0</td>\n",
       "      <td>0</td>\n",
       "      <td>0</td>\n",
       "      <td>0</td>\n",
       "      <td>0</td>\n",
       "      <td>1</td>\n",
       "      <td>0</td>\n",
       "      <td>0</td>\n",
       "    </tr>\n",
       "    <tr>\n",
       "      <th>1</th>\n",
       "      <td>25837</td>\n",
       "      <td>5438</td>\n",
       "      <td>0</td>\n",
       "      <td>0.04</td>\n",
       "      <td>0.19</td>\n",
       "      <td>0.31</td>\n",
       "      <td>0.46</td>\n",
       "      <td>1,039.17</td>\n",
       "      <td>0</td>\n",
       "      <td>1</td>\n",
       "      <td>...</td>\n",
       "      <td>0</td>\n",
       "      <td>0</td>\n",
       "      <td>0</td>\n",
       "      <td>0</td>\n",
       "      <td>0</td>\n",
       "      <td>0</td>\n",
       "      <td>0</td>\n",
       "      <td>1</td>\n",
       "      <td>0</td>\n",
       "      <td>0</td>\n",
       "    </tr>\n",
       "  </tbody>\n",
       "</table>\n",
       "<p>2 rows × 71 columns</p>\n",
       "</div>"
      ],
      "text/plain": [
       "   PIB_per_capita  População  Capag  VAB_Indústria/Total  VAB_Serviço/Total  \\\n",
       "0           23206     106168      0                 0.15               0.47   \n",
       "1           25837       5438      0                 0.04               0.19   \n",
       "\n",
       "   VAB_Adm/Total  VAB_Agricultura/Total  Imposto_Prod_Percapita  \\\n",
       "0           0.31                   0.07                2,376.05   \n",
       "1           0.31                   0.46                1,039.17   \n",
       "\n",
       "   Região_Nordeste  Região_Norte  ...  Hier_Urbana_princ_categ_Centro de Zona  \\\n",
       "0                0             1  ...                                       0   \n",
       "1                0             1  ...                                       0   \n",
       "\n",
       "   Hier_Urbana_princ_categ_Metrópole  Região_rural_Centro Sub-regional  \\\n",
       "0                                  0                                 0   \n",
       "1                                  0                                 0   \n",
       "\n",
       "   Região_rural_Centro de zona  Região_rural_Grande Metrópole Nacional  \\\n",
       "0                            0                                       0   \n",
       "1                            0                                       0   \n",
       "\n",
       "   Região_rural_Metrópole  Região_rural_Metrópole Nacional  \\\n",
       "0                       0                                0   \n",
       "1                       0                                0   \n",
       "\n",
       "   Amazônia_Legal_Sim  Semiárido_Sim  Cid_Região_São_Paulo_Sim  \n",
       "0                   1              0                         0  \n",
       "1                   1              0                         0  \n",
       "\n",
       "[2 rows x 71 columns]"
      ]
     },
     "execution_count": 219,
     "metadata": {},
     "output_type": "execute_result"
    }
   ],
   "source": [
    "#carrega os dados \n",
    "df = pd.read_excel('df_sem_target_nan.xlsx')\n",
    "df.head(2)"
   ]
  },
  {
   "cell_type": "code",
   "execution_count": 220,
   "metadata": {},
   "outputs": [
    {
     "name": "stdout",
     "output_type": "stream",
     "text": [
      "<class 'pandas.core.frame.DataFrame'>\n",
      "RangeIndex: 4418 entries, 0 to 4417\n",
      "Data columns (total 71 columns):\n",
      " #   Column                                              Non-Null Count  Dtype  \n",
      "---  ------                                              --------------  -----  \n",
      " 0   PIB_per_capita                                      4418 non-null   int64  \n",
      " 1   População                                           4418 non-null   int64  \n",
      " 2   Capag                                               4418 non-null   int64  \n",
      " 3   VAB_Indústria/Total                                 4418 non-null   float64\n",
      " 4   VAB_Serviço/Total                                   4418 non-null   float64\n",
      " 5   VAB_Adm/Total                                       4418 non-null   float64\n",
      " 6   VAB_Agricultura/Total                               4418 non-null   float64\n",
      " 7   Imposto_Prod_Percapita                              4418 non-null   float64\n",
      " 8   Região_Nordeste                                     4418 non-null   int64  \n",
      " 9   Região_Norte                                        4418 non-null   int64  \n",
      " 10  Região_Sudeste                                      4418 non-null   int64  \n",
      " 11  Região_Sul                                          4418 non-null   int64  \n",
      " 12  UF_Alagoas                                          4418 non-null   int64  \n",
      " 13  UF_Amapá                                            4418 non-null   int64  \n",
      " 14  UF_Amazonas                                         4418 non-null   int64  \n",
      " 15  UF_Bahia                                            4418 non-null   int64  \n",
      " 16  UF_Ceará                                            4418 non-null   int64  \n",
      " 17  UF_Distrito Federal                                 4418 non-null   int64  \n",
      " 18  UF_Espírito Santo                                   4418 non-null   int64  \n",
      " 19  UF_Goiás                                            4418 non-null   int64  \n",
      " 20  UF_Maranhão                                         4418 non-null   int64  \n",
      " 21  UF_Mato Grosso                                      4418 non-null   int64  \n",
      " 22  UF_Mato Grosso do Sul                               4418 non-null   int64  \n",
      " 23  UF_Minas Gerais                                     4418 non-null   int64  \n",
      " 24  UF_Paraná                                           4418 non-null   int64  \n",
      " 25  UF_Paraíba                                          4418 non-null   int64  \n",
      " 26  UF_Pará                                             4418 non-null   int64  \n",
      " 27  UF_Pernambuco                                       4418 non-null   int64  \n",
      " 28  UF_Piauí                                            4418 non-null   int64  \n",
      " 29  UF_Rio Grande do Norte                              4418 non-null   int64  \n",
      " 30  UF_Rio Grande do Sul                                4418 non-null   int64  \n",
      " 31  UF_Rio de Janeiro                                   4418 non-null   int64  \n",
      " 32  UF_Rondônia                                         4418 non-null   int64  \n",
      " 33  UF_Roraima                                          4418 non-null   int64  \n",
      " 34  UF_Santa Catarina                                   4418 non-null   int64  \n",
      " 35  UF_Sergipe                                          4418 non-null   int64  \n",
      " 36  UF_São Paulo                                        4418 non-null   int64  \n",
      " 37  UF_Tocantins                                        4418 non-null   int64  \n",
      " 38  Reg_Metropolitana_1                                 4418 non-null   int64  \n",
      " 39  Mun_Reg_Geog_Imediata_do Entorno                    4418 non-null   int64  \n",
      " 40  Mun_Reg_Geog_Intermediária_do Entorno               4418 non-null   int64  \n",
      " 41  Tipo_Conc_Urbana_Miss                               4418 non-null   int64  \n",
      " 42  Tipo_Conc_Urbana_Média concentração urbana          4418 non-null   int64  \n",
      " 43  Hierarquia_Urbana_Capital Regional C                4418 non-null   int64  \n",
      " 44  Hierarquia_Urbana_Centro Local                      4418 non-null   int64  \n",
      " 45  Hierarquia_Urbana_Centro Subregional A              4418 non-null   int64  \n",
      " 46  Hierarquia_Urbana_Centro Subregional B              4418 non-null   int64  \n",
      " 47  Hierarquia_Urbana_Centro de Zona A                  4418 non-null   int64  \n",
      " 48  Hierarquia_Urbana_Centro de Zona B                  4418 non-null   int64  \n",
      " 49  Hierarquia_Urbana_Integrante de Capital Regional A  4418 non-null   int64  \n",
      " 50  Hierarquia_Urbana_Integrante de Capital Regional B  4418 non-null   int64  \n",
      " 51  Hierarquia_Urbana_Integrante de Capital Regional C  4418 non-null   int64  \n",
      " 52  Hierarquia_Urbana_Integrante de Centro de Zona A    4418 non-null   int64  \n",
      " 53  Hierarquia_Urbana_Integrante de Metrópole           4418 non-null   int64  \n",
      " 54  Hierarquia_Urbana_Núcleo de Capital Regional A      4418 non-null   int64  \n",
      " 55  Hierarquia_Urbana_Núcleo de Capital Regional B      4418 non-null   int64  \n",
      " 56  Hierarquia_Urbana_Núcleo de Capital Regional C      4418 non-null   int64  \n",
      " 57  Hierarquia_Urbana_Núcleo de Centro de Zona A        4418 non-null   int64  \n",
      " 58  Hierarquia_Urbana_Núcleo de Metrópole               4418 non-null   int64  \n",
      " 59  Hier_Urbana_princ_categ_Centro Local                4418 non-null   int64  \n",
      " 60  Hier_Urbana_princ_categ_Centro Subregional          4418 non-null   int64  \n",
      " 61  Hier_Urbana_princ_categ_Centro de Zona              4418 non-null   int64  \n",
      " 62  Hier_Urbana_princ_categ_Metrópole                   4418 non-null   int64  \n",
      " 63  Região_rural_Centro Sub-regional                    4418 non-null   int64  \n",
      " 64  Região_rural_Centro de zona                         4418 non-null   int64  \n",
      " 65  Região_rural_Grande Metrópole Nacional              4418 non-null   int64  \n",
      " 66  Região_rural_Metrópole                              4418 non-null   int64  \n",
      " 67  Região_rural_Metrópole Nacional                     4418 non-null   int64  \n",
      " 68  Amazônia_Legal_Sim                                  4418 non-null   int64  \n",
      " 69  Semiárido_Sim                                       4418 non-null   int64  \n",
      " 70  Cid_Região_São_Paulo_Sim                            4418 non-null   int64  \n",
      "dtypes: float64(5), int64(66)\n",
      "memory usage: 2.4 MB\n"
     ]
    }
   ],
   "source": [
    "df.info()"
   ]
  },
  {
   "cell_type": "code",
   "execution_count": 221,
   "metadata": {},
   "outputs": [
    {
     "name": "stdout",
     "output_type": "stream",
     "text": [
      "(4418, 70) (4418,)\n"
     ]
    }
   ],
   "source": [
    "# Separação em inputs e outputs\n",
    "X, y = df.drop(['Capag'], axis = 1), df['Capag']\n",
    "print(X.shape, y.shape)"
   ]
  },
  {
   "cell_type": "code",
   "execution_count": 222,
   "metadata": {},
   "outputs": [
    {
     "data": {
      "text/plain": [
       "0"
      ]
     },
     "execution_count": 222,
     "metadata": {},
     "output_type": "execute_result"
    }
   ],
   "source": [
    "y.isna().sum()"
   ]
  },
  {
   "cell_type": "code",
   "execution_count": 223,
   "metadata": {},
   "outputs": [
    {
     "data": {
      "text/plain": [
       "0    0\n",
       "1    0\n",
       "2    1\n",
       "3    0\n",
       "4    0\n",
       "Name: Capag, dtype: int64"
      ]
     },
     "execution_count": 223,
     "metadata": {},
     "output_type": "execute_result"
    }
   ],
   "source": [
    "# Determinação de variáveis categóricas e numéricas\n",
    "#df.columns\n",
    "df['Capag'].head()"
   ]
  },
  {
   "cell_type": "code",
   "execution_count": 224,
   "metadata": {},
   "outputs": [
    {
     "data": {
      "text/plain": [
       "1    2228\n",
       "0    2190\n",
       "Name: Capag, dtype: int64"
      ]
     },
     "execution_count": 224,
     "metadata": {},
     "output_type": "execute_result"
    }
   ],
   "source": [
    "# Verificar target\n",
    "y.value_counts()"
   ]
  },
  {
   "cell_type": "code",
   "execution_count": 225,
   "metadata": {},
   "outputs": [
    {
     "data": {
      "text/plain": [
       "((3534, 70), (884, 70), (3534,), (884,))"
      ]
     },
     "execution_count": 225,
     "metadata": {},
     "output_type": "execute_result"
    }
   ],
   "source": [
    "X_train, X_test, y_train, y_test = train_test_split(X, y, test_size = .2, random_state = 42)\n",
    "X_train.shape, X_test.shape, y_train.shape, y_test.shape"
   ]
  },
  {
   "cell_type": "markdown",
   "metadata": {},
   "source": [
    "# Randomized/Grid Search\n",
    "Referência: https://www.analyticsvidhya.com/blog/2016/02/complete-guide-parameter-tuning-gradient-boosting-gbm-python/"
   ]
  },
  {
   "cell_type": "code",
   "execution_count": 148,
   "metadata": {},
   "outputs": [],
   "source": [
    " rng = np.random.RandomState(0)"
   ]
  },
  {
   "cell_type": "code",
   "execution_count": 149,
   "metadata": {},
   "outputs": [
    {
     "data": {
      "text/plain": [
       "((3534, 70), (884, 70), (3534,), (884,))"
      ]
     },
     "execution_count": 149,
     "metadata": {},
     "output_type": "execute_result"
    }
   ],
   "source": [
    "X_train, X_test, y_train, y_test = train_test_split(X, y, test_size = .2, random_state = 42)\n",
    "X_train.shape, X_test.shape, y_train.shape, y_test.shape"
   ]
  },
  {
   "cell_type": "code",
   "execution_count": 230,
   "metadata": {},
   "outputs": [],
   "source": [
    "clf = XGBClassifier()"
   ]
  },
  {
   "cell_type": "code",
   "execution_count": 231,
   "metadata": {},
   "outputs": [],
   "source": [
    "#Este é o dicionário de parâmetros utilizado para o Grid search com 100 iterações.\n",
    "#Após obter o resultado, fizemos a versão abaixo com os parâmetros ótimos.\n",
    "##param_grid = {\n",
    "  #  'max_depth': range(3,7,1),\n",
    "   # 'subsample':range(10,80,10),\n",
    "    #'tree_method': ['hist'],\n",
    "    #'random_state': range(20000, 38000,1),\n",
    "    #'max_delta_step': [1],\n",
    "    #'subsample':[0.65]\n",
    "#}"
   ]
  },
  {
   "cell_type": "code",
   "execution_count": 232,
   "metadata": {},
   "outputs": [],
   "source": [
    "param_grid = {\n",
    "    'max_depth': [6],\n",
    "    'tree_method': ['hist'],\n",
    "    'random_state': [27889],\n",
    "    'max_delta_step': [1],\n",
    "    'subsample':[0.65]\n",
    "}"
   ]
  },
  {
   "cell_type": "code",
   "execution_count": 233,
   "metadata": {},
   "outputs": [
    {
     "name": "stdout",
     "output_type": "stream",
     "text": [
      "Best params:\n",
      "{'tree_method': 'hist', 'subsample': 0.65, 'random_state': 27889, 'max_depth': 6, 'max_delta_step': 1}\n"
     ]
    }
   ],
   "source": [
    "search = RandomizedSearchCV(clf,\n",
    "                            param_distributions=param_grid,\n",
    "                            cv=10,\n",
    "                            n_iter = 1\n",
    "                           )  \n",
    "search.fit(X, y) \n",
    "\n",
    "print(f\"Best params:\")  \n",
    "print(search.best_params_)"
   ]
  },
  {
   "cell_type": "code",
   "execution_count": 234,
   "metadata": {},
   "outputs": [
    {
     "name": "stdout",
     "output_type": "stream",
     "text": [
      "              precision    recall  f1-score   support\n",
      "\n",
      "           0       0.94      0.95      0.95      1775\n",
      "           1       0.95      0.94      0.95      1759\n",
      "\n",
      "    accuracy                           0.95      3534\n",
      "   macro avg       0.95      0.95      0.95      3534\n",
      "weighted avg       0.95      0.95      0.95      3534\n",
      "\n",
      "Acurácia de Previsão de Treino: 0.9459535936615733\n"
     ]
    },
    {
     "data": {
      "text/plain": [
       "<Figure size 432x288 with 0 Axes>"
      ]
     },
     "metadata": {},
     "output_type": "display_data"
    }
   ],
   "source": [
    "# Métricas do conjunto de treino\n",
    "print(metrics.classification_report(y_train, search.predict(X_train), target_names=['0','1']))\n",
    "print (\"Acurácia de Previsão de Treino:\", accuracy_score(y_train, search.predict(X_train)))\n",
    "plt.savefig('acuracia_previsao_treino.jpg',bbox_inches='tight', dpi = 100)"
   ]
  },
  {
   "cell_type": "code",
   "execution_count": 235,
   "metadata": {},
   "outputs": [
    {
     "name": "stdout",
     "output_type": "stream",
     "text": [
      "              precision    recall  f1-score   support\n",
      "\n",
      "           0       0.95      0.95      0.95       415\n",
      "           1       0.96      0.96      0.96       469\n",
      "\n",
      "    accuracy                           0.95       884\n",
      "   macro avg       0.95      0.95      0.95       884\n",
      "weighted avg       0.95      0.95      0.95       884\n",
      "\n",
      "Acurácia de Previsão de Teste: 0.9536199095022625\n"
     ]
    }
   ],
   "source": [
    "# Métricas do conjunto de teste\n",
    "print(metrics.classification_report(y_test, search.predict(X_test), target_names=['0','1']))\n",
    "print (\"Acurácia de Previsão de Teste:\", accuracy_score(y_test, search.predict(X_test)))\n",
    "\n",
    "# Alarme\n",
    "import winsound\n",
    "duration = 1000  # milliseconds\n",
    "freq = 440  # Hz\n",
    "winsound.Beep(freq, duration)"
   ]
  },
  {
   "cell_type": "markdown",
   "metadata": {},
   "source": [
    "## Matriz de Confusão"
   ]
  },
  {
   "cell_type": "markdown",
   "metadata": {},
   "source": [
    "### Base de teste"
   ]
  },
  {
   "cell_type": "code",
   "execution_count": 209,
   "metadata": {},
   "outputs": [
    {
     "data": {
      "text/plain": [
       "array([[395,  20],\n",
       "       [ 21, 448]], dtype=int64)"
      ]
     },
     "execution_count": 209,
     "metadata": {},
     "output_type": "execute_result"
    }
   ],
   "source": [
    "#matriz de confusão conjunto de teste\n",
    "cnf_matrix =  metrics.confusion_matrix(y_test, search.predict(X_test))\n",
    "cnf_matrix"
   ]
  },
  {
   "cell_type": "code",
   "execution_count": 206,
   "metadata": {},
   "outputs": [],
   "source": [
    "#matriz de confusão\n",
    "import itertools\n",
    "def plot_confusion_matrix(cm, classes,\n",
    "                          normalize=False,\n",
    "                          title='Confusion matrix',\n",
    "                          cmap=plt.cm.Blues):\n",
    "    \"\"\"\n",
    "    This function prints and plots the confusion matrix.\n",
    "    Normalization can be applied by setting `normalize=True`.\n",
    "    \"\"\"\n",
    "    if normalize:\n",
    "        cm = cm.astype('float') / cm.sum(axis=1)[:, np.newaxis]\n",
    "\n",
    "    plt.imshow(cm, interpolation='nearest', cmap=cmap)\n",
    "    plt.title(title)\n",
    "    plt.colorbar()\n",
    "    tick_marks = np.arange(len(classes))\n",
    "    plt.xticks(tick_marks, classes, rotation=45)\n",
    "    plt.yticks(tick_marks, classes)\n",
    "\n",
    "    fmt = '.2f' if normalize else 'd'\n",
    "    thresh = cm.max() / 2.\n",
    "    for i, j in itertools.product(range(cm.shape[0]), range(cm.shape[1])):\n",
    "        plt.text(j, i, format(cm[i, j], fmt),\n",
    "                 horizontalalignment=\"center\",\n",
    "                 color=\"white\" if cm[i, j] > thresh else \"black\")\n",
    "\n",
    "    plt.ylabel('True label')\n",
    "    plt.xlabel('Predicted label')\n",
    "    plt.tight_layout()\n"
   ]
  },
  {
   "cell_type": "code",
   "execution_count": 213,
   "metadata": {},
   "outputs": [
    {
     "data": {
      "image/png": "[encoded data removed]",
      "text/plain": [
       "<Figure size 432x288 with 2 Axes>"
      ]
     },
     "metadata": {
      "needs_background": "light"
     },
     "output_type": "display_data"
    }
   ],
   "source": [
    "#visualizando a matriz de confusão\n",
    "plot_confusion_matrix(cnf_matrix,classes =['0', '1'],\n",
    "                      title='Matriz de confusão - teste', normalize=False)"
   ]
  },
  {
   "cell_type": "markdown",
   "metadata": {},
   "source": [
    "### Base de treino"
   ]
  },
  {
   "cell_type": "code",
   "execution_count": 214,
   "metadata": {},
   "outputs": [
    {
     "data": {
      "text/plain": [
       "array([[1691,   84],\n",
       "       [ 107, 1652]], dtype=int64)"
      ]
     },
     "execution_count": 214,
     "metadata": {},
     "output_type": "execute_result"
    }
   ],
   "source": [
    "cnf_matrix =  metrics.confusion_matrix(y_train, search.predict(X_train))\n",
    "cnf_matrix"
   ]
  },
  {
   "cell_type": "code",
   "execution_count": 215,
   "metadata": {},
   "outputs": [
    {
     "data": {
      "image/png": "[encoded data removed]",
      "text/plain": [
       "<Figure size 432x288 with 2 Axes>"
      ]
     },
     "metadata": {
      "needs_background": "light"
     },
     "output_type": "display_data"
    }
   ],
   "source": [
    "#visualizando a matriz de confusão\n",
    "plot_confusion_matrix(cnf_matrix,classes =['0', '1'],\n",
    "                      title='Matriz de confusão - treino', normalize=False)"
   ]
  },
  {
   "cell_type": "markdown",
   "metadata": {},
   "source": [
    "## Salvar o modelo para produção e utilização futura"
   ]
  },
  {
   "cell_type": "code",
   "execution_count": 155,
   "metadata": {},
   "outputs": [],
   "source": [
    "import pickle"
   ]
  },
  {
   "cell_type": "code",
   "execution_count": 156,
   "metadata": {},
   "outputs": [],
   "source": [
    "# save the model to disk\n",
    "filename = 'modelo_randomizedsearch_xgboost_capag.pkl'\n",
    "pickle.dump(search, open(filename, 'wb'))"
   ]
  },
  {
   "cell_type": "code",
   "execution_count": 168,
   "metadata": {},
   "outputs": [
    {
     "data": {
      "text/plain": [
       "RandomizedSearchCV(cv=10,\n",
       "                   estimator=XGBClassifier(base_score=None, booster=None,\n",
       "                                           colsample_bylevel=None,\n",
       "                                           colsample_bynode=None,\n",
       "                                           colsample_bytree=None, gamma=None,\n",
       "                                           gpu_id=None, importance_type='gain',\n",
       "                                           interaction_constraints=None,\n",
       "                                           learning_rate=None,\n",
       "                                           max_delta_step=None, max_depth=None,\n",
       "                                           min_child_weight=None, missing=nan,\n",
       "                                           monotone_constraints=None,\n",
       "                                           n_estimators=100, n_jobs=None,\n",
       "                                           num_parallel_tree=None,\n",
       "                                           random_state=None, reg_alpha=None,\n",
       "                                           reg_lambda=None,\n",
       "                                           scale_pos_weight=None,\n",
       "                                           subsample=None, tree_method=None,\n",
       "                                           validate_parameters=None,\n",
       "                                           verbosity=None),\n",
       "                   n_iter=1,\n",
       "                   param_distributions={'max_delta_step': [1], 'max_depth': [6],\n",
       "                                        'random_state': [27889],\n",
       "                                        'subsample': [0.65],\n",
       "                                        'tree_method': ['hist']})"
      ]
     },
     "execution_count": 168,
     "metadata": {},
     "output_type": "execute_result"
    }
   ],
   "source": [
    "# load the model from disk\n",
    "loaded_model = pickle.load(open(filename, 'rb'))\n",
    "loaded_model"
   ]
  },
  {
   "cell_type": "markdown",
   "metadata": {},
   "source": [
    "# Utilização do modelo para prever todos os casos\n",
    "Serão incluídos inclusive os casos em que não havia target calculado, e que não foram utilizados para ajustar o modelo."
   ]
  },
  {
   "cell_type": "code",
   "execution_count": 169,
   "metadata": {},
   "outputs": [],
   "source": [
    "# df_completo é o modelo com a engenharia de variáveis criadas, com muitas variáveis dummies. Será usado para previsão dos casos não calculados.\n",
    "df_completo = pd.read_excel('df_completo.xlsx')\n",
    "df_streamlit = pd.read_excel('df_streamlit.xlsx')"
   ]
  },
  {
   "cell_type": "code",
   "execution_count": 170,
   "metadata": {},
   "outputs": [
    {
     "data": {
      "text/plain": [
       "((5570, 71), (5570, 21))"
      ]
     },
     "execution_count": 170,
     "metadata": {},
     "output_type": "execute_result"
    }
   ],
   "source": [
    "df_completo.shape, df_streamlit.shape"
   ]
  },
  {
   "cell_type": "code",
   "execution_count": 171,
   "metadata": {},
   "outputs": [
    {
     "name": "stdout",
     "output_type": "stream",
     "text": [
      "(5570, 70) (5570,)\n"
     ]
    }
   ],
   "source": [
    "# Separação em inputs e outputs\n",
    "X_completo, y_completo = df_completo.drop(['Capag'], axis = 1), df_completo['Capag']\n",
    "print(X_completo.shape, y_completo.shape)"
   ]
  },
  {
   "cell_type": "code",
   "execution_count": 172,
   "metadata": {},
   "outputs": [],
   "source": [
    "#  Abaixo estamos convertendo a variável Capag para o tipo de dados integer, criando nova variável\n",
    "# Capag_real igual a Capag e eliminando a variável Capag\n",
    "# A razão de termos alterado o nome da variável é para facilitar o entendimento pelo usuário após\n",
    "# o cálculo e junção da variável Capag_predito.\n",
    "df_streamlit['Capag'] = df_streamlit['Capag'].astype('Int64')\n",
    "df_streamlit['Capag_real'] = df_streamlit['Capag']\n",
    "df_streamlit = df_streamlit.drop(['Capag'], axis = 1)"
   ]
  },
  {
   "cell_type": "code",
   "execution_count": 173,
   "metadata": {},
   "outputs": [],
   "source": [
    "# Previsão do valor de y\n",
    "df_streamlit['Capag_predito'] = loaded_model.predict(X_completo)"
   ]
  },
  {
   "cell_type": "code",
   "execution_count": 184,
   "metadata": {},
   "outputs": [
    {
     "data": {
      "text/html": [
       "<div>\n",
       "<style scoped>\n",
       "    .dataframe tbody tr th:only-of-type {\n",
       "        vertical-align: middle;\n",
       "    }\n",
       "\n",
       "    .dataframe tbody tr th {\n",
       "        vertical-align: top;\n",
       "    }\n",
       "\n",
       "    .dataframe thead th {\n",
       "        text-align: right;\n",
       "    }\n",
       "</style>\n",
       "<table border=\"1\" class=\"dataframe\">\n",
       "  <thead>\n",
       "    <tr style=\"text-align: right;\">\n",
       "      <th></th>\n",
       "      <th>Município</th>\n",
       "      <th>Região</th>\n",
       "      <th>UF</th>\n",
       "      <th>Reg_Metropolitana</th>\n",
       "      <th>Mun_Reg_Geog_Imediata</th>\n",
       "      <th>Mun_Reg_Geog_Intermediária</th>\n",
       "      <th>Tipo_Conc_Urbana</th>\n",
       "      <th>Hierarquia_Urbana</th>\n",
       "      <th>Hier_Urbana_princ_categ</th>\n",
       "      <th>Região_rural</th>\n",
       "      <th>...</th>\n",
       "      <th>Cid_Região_São_Paulo</th>\n",
       "      <th>PIB_per_capita</th>\n",
       "      <th>VAB_Indústria/Total</th>\n",
       "      <th>VAB_Serviço/Total</th>\n",
       "      <th>VAB_Adm/Total</th>\n",
       "      <th>VAB_Agricultura/Total</th>\n",
       "      <th>População</th>\n",
       "      <th>Imposto_Prod_Percapita</th>\n",
       "      <th>Capag_real</th>\n",
       "      <th>Capag_predito</th>\n",
       "    </tr>\n",
       "  </thead>\n",
       "  <tbody>\n",
       "    <tr>\n",
       "      <th>0</th>\n",
       "      <td>Alta Floresta D'Oeste</td>\n",
       "      <td>Norte</td>\n",
       "      <td>Rondônia</td>\n",
       "      <td>Não</td>\n",
       "      <td>do Entorno</td>\n",
       "      <td>do Entorno</td>\n",
       "      <td>NaN</td>\n",
       "      <td>Centro Local</td>\n",
       "      <td>Centro Local</td>\n",
       "      <td>Região Rural de Capital Regional</td>\n",
       "      <td>...</td>\n",
       "      <td>Não</td>\n",
       "      <td>21552</td>\n",
       "      <td>0.06</td>\n",
       "      <td>0.26</td>\n",
       "      <td>0.33</td>\n",
       "      <td>0.35</td>\n",
       "      <td>23167</td>\n",
       "      <td>1,219.88</td>\n",
       "      <td>&lt;NA&gt;</td>\n",
       "      <td>0</td>\n",
       "    </tr>\n",
       "    <tr>\n",
       "      <th>1</th>\n",
       "      <td>Ariquemes</td>\n",
       "      <td>Norte</td>\n",
       "      <td>Rondônia</td>\n",
       "      <td>Não</td>\n",
       "      <td>Polo</td>\n",
       "      <td>do Entorno</td>\n",
       "      <td>NaN</td>\n",
       "      <td>Centro Subregional B</td>\n",
       "      <td>Centro Subregional</td>\n",
       "      <td>Região Rural de Capital Regional</td>\n",
       "      <td>...</td>\n",
       "      <td>Não</td>\n",
       "      <td>23206</td>\n",
       "      <td>0.15</td>\n",
       "      <td>0.47</td>\n",
       "      <td>0.31</td>\n",
       "      <td>0.07</td>\n",
       "      <td>106168</td>\n",
       "      <td>2,376.05</td>\n",
       "      <td>0</td>\n",
       "      <td>0</td>\n",
       "    </tr>\n",
       "    <tr>\n",
       "      <th>2</th>\n",
       "      <td>Cabixi</td>\n",
       "      <td>Norte</td>\n",
       "      <td>Rondônia</td>\n",
       "      <td>Não</td>\n",
       "      <td>do Entorno</td>\n",
       "      <td>do Entorno</td>\n",
       "      <td>NaN</td>\n",
       "      <td>Centro Local</td>\n",
       "      <td>Centro Local</td>\n",
       "      <td>Região Rural de Capital Regional</td>\n",
       "      <td>...</td>\n",
       "      <td>Não</td>\n",
       "      <td>25837</td>\n",
       "      <td>0.04</td>\n",
       "      <td>0.19</td>\n",
       "      <td>0.31</td>\n",
       "      <td>0.46</td>\n",
       "      <td>5438</td>\n",
       "      <td>1,039.17</td>\n",
       "      <td>0</td>\n",
       "      <td>0</td>\n",
       "    </tr>\n",
       "  </tbody>\n",
       "</table>\n",
       "<p>3 rows × 22 columns</p>\n",
       "</div>"
      ],
      "text/plain": [
       "               Município Região        UF Reg_Metropolitana  \\\n",
       "0  Alta Floresta D'Oeste  Norte  Rondônia               Não   \n",
       "1              Ariquemes  Norte  Rondônia               Não   \n",
       "2                 Cabixi  Norte  Rondônia               Não   \n",
       "\n",
       "  Mun_Reg_Geog_Imediata Mun_Reg_Geog_Intermediária Tipo_Conc_Urbana  \\\n",
       "0            do Entorno                 do Entorno              NaN   \n",
       "1                  Polo                 do Entorno              NaN   \n",
       "2            do Entorno                 do Entorno              NaN   \n",
       "\n",
       "      Hierarquia_Urbana Hier_Urbana_princ_categ  \\\n",
       "0          Centro Local            Centro Local   \n",
       "1  Centro Subregional B      Centro Subregional   \n",
       "2          Centro Local            Centro Local   \n",
       "\n",
       "                       Região_rural  ... Cid_Região_São_Paulo PIB_per_capita  \\\n",
       "0  Região Rural de Capital Regional  ...                  Não          21552   \n",
       "1  Região Rural de Capital Regional  ...                  Não          23206   \n",
       "2  Região Rural de Capital Regional  ...                  Não          25837   \n",
       "\n",
       "  VAB_Indústria/Total  VAB_Serviço/Total  VAB_Adm/Total  \\\n",
       "0                0.06               0.26           0.33   \n",
       "1                0.15               0.47           0.31   \n",
       "2                0.04               0.19           0.31   \n",
       "\n",
       "   VAB_Agricultura/Total  População  Imposto_Prod_Percapita  Capag_real  \\\n",
       "0                   0.35      23167                1,219.88        <NA>   \n",
       "1                   0.07     106168                2,376.05           0   \n",
       "2                   0.46       5438                1,039.17           0   \n",
       "\n",
       "   Capag_predito  \n",
       "0              0  \n",
       "1              0  \n",
       "2              0  \n",
       "\n",
       "[3 rows x 22 columns]"
      ]
     },
     "execution_count": 184,
     "metadata": {},
     "output_type": "execute_result"
    }
   ],
   "source": [
    "df_streamlit.head(3)"
   ]
  },
  {
   "cell_type": "code",
   "execution_count": 175,
   "metadata": {},
   "outputs": [],
   "source": [
    "df_streamlit.to_csv('C:/Users/xxx/df_streamlit_com_previsao5.csv')"
   ]
  },
  {
   "cell_type": "code",
   "execution_count": 176,
   "metadata": {},
   "outputs": [
    {
     "data": {
      "text/plain": [
       "Index(['Município', 'Região', 'UF', 'Reg_Metropolitana',\n",
       "       'Mun_Reg_Geog_Imediata', 'Mun_Reg_Geog_Intermediária',\n",
       "       'Tipo_Conc_Urbana', 'Hierarquia_Urbana', 'Hier_Urbana_princ_categ',\n",
       "       'Região_rural', 'Amazônia_Legal', 'Semiárido', 'Cid_Região_São_Paulo',\n",
       "       'PIB_per_capita', 'VAB_Indústria/Total', 'VAB_Serviço/Total',\n",
       "       'VAB_Adm/Total', 'VAB_Agricultura/Total', 'População',\n",
       "       'Imposto_Prod_Percapita', 'Capag_real', 'Capag_predito'],\n",
       "      dtype='object')"
      ]
     },
     "execution_count": 176,
     "metadata": {},
     "output_type": "execute_result"
    }
   ],
   "source": [
    "df_streamlit.columns"
   ]
  },
  {
   "cell_type": "markdown",
   "metadata": {},
   "source": [
    "# Criação de arquivo resumido para streamlit"
   ]
  },
  {
   "cell_type": "code",
   "execution_count": 180,
   "metadata": {},
   "outputs": [],
   "source": [
    "df_streamlit_com_previsao_resumido = df_streamlit[['Município','UF','PIB_per_capita','População','Capag_real','Capag_predito']]"
   ]
  },
  {
   "cell_type": "code",
   "execution_count": 185,
   "metadata": {},
   "outputs": [
    {
     "data": {
      "text/html": [
       "<div>\n",
       "<style scoped>\n",
       "    .dataframe tbody tr th:only-of-type {\n",
       "        vertical-align: middle;\n",
       "    }\n",
       "\n",
       "    .dataframe tbody tr th {\n",
       "        vertical-align: top;\n",
       "    }\n",
       "\n",
       "    .dataframe thead th {\n",
       "        text-align: right;\n",
       "    }\n",
       "</style>\n",
       "<table border=\"1\" class=\"dataframe\">\n",
       "  <thead>\n",
       "    <tr style=\"text-align: right;\">\n",
       "      <th></th>\n",
       "      <th>Município</th>\n",
       "      <th>UF</th>\n",
       "      <th>PIB_per_capita</th>\n",
       "      <th>População</th>\n",
       "      <th>Capag_real</th>\n",
       "      <th>Capag_predito</th>\n",
       "    </tr>\n",
       "  </thead>\n",
       "  <tbody>\n",
       "    <tr>\n",
       "      <th>0</th>\n",
       "      <td>Alta Floresta D'Oeste</td>\n",
       "      <td>Rondônia</td>\n",
       "      <td>21552</td>\n",
       "      <td>23167</td>\n",
       "      <td>&lt;NA&gt;</td>\n",
       "      <td>0</td>\n",
       "    </tr>\n",
       "    <tr>\n",
       "      <th>1</th>\n",
       "      <td>Ariquemes</td>\n",
       "      <td>Rondônia</td>\n",
       "      <td>23206</td>\n",
       "      <td>106168</td>\n",
       "      <td>0</td>\n",
       "      <td>0</td>\n",
       "    </tr>\n",
       "  </tbody>\n",
       "</table>\n",
       "</div>"
      ],
      "text/plain": [
       "               Município        UF  PIB_per_capita  População  Capag_real  \\\n",
       "0  Alta Floresta D'Oeste  Rondônia           21552      23167        <NA>   \n",
       "1              Ariquemes  Rondônia           23206     106168           0   \n",
       "\n",
       "   Capag_predito  \n",
       "0              0  \n",
       "1              0  "
      ]
     },
     "execution_count": 185,
     "metadata": {},
     "output_type": "execute_result"
    }
   ],
   "source": [
    "df_streamlit_com_previsao_resumido.head(2)"
   ]
  },
  {
   "cell_type": "code",
   "execution_count": 183,
   "metadata": {},
   "outputs": [],
   "source": [
    "df_streamlit_com_previsao_resumido.to_csv('C:/Users/xxx/df_streamlit_com_previsao_resumido6.csv')"
   ]
  },
  {
   "cell_type": "code",
   "execution_count": null,
   "metadata": {},
   "outputs": [],
   "source": []
  }
 ],
 "metadata": {
  "kernelspec": {
   "display_name": "Python 3 (ipykernel)",
   "language": "python",
   "name": "python3"
  },
  "language_info": {
   "codemirror_mode": {
    "name": "ipython",
    "version": 3
   },
   "file_extension": ".py",
   "mimetype": "text/x-python",
   "name": "python",
   "nbconvert_exporter": "python",
   "pygments_lexer": "ipython3",
   "version": "3.7.3"
  }
 },
 "nbformat": 4,
 "nbformat_minor": 2
}
